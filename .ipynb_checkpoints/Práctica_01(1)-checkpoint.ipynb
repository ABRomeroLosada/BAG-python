{
 "cells": [
  {
   "cell_type": "markdown",
   "metadata": {},
   "source": [
    "### El lenguaje de programación _Python_"
   ]
  },
  {
   "cell_type": "markdown",
   "metadata": {},
   "source": [
    "El objetivo de esta práctica es realizar una serie de ejercicios de familiarización con el lenguaje de programación _Python_."
   ]
  },
  {
   "cell_type": "markdown",
   "metadata": {},
   "source": [
    "Para evaluar las celdas se puede usar uno de los siguientes tres comandos:\n",
    "* Control-Enter: evalúa la celda y permanece en ella\n",
    "* Mayúsculas-Enter: evalúa la celda y selecciona la siguiente celda\n",
    "* Alt-Enter: evalúa la celda e inserta una celda vacía justo debajo"
   ]
  },
  {
   "cell_type": "markdown",
   "metadata": {},
   "source": [
    "###### Ejercicio 1"
   ]
  },
  {
   "cell_type": "markdown",
   "metadata": {},
   "source": [
    "Se pide definir una función `cuadrados` que, dada una secuencia `sec` de números, devuelva la lista de los cuadrados de esos números, en el mismo orden."
   ]
  },
  {
   "cell_type": "markdown",
   "metadata": {},
   "source": [
    "###### Ejemplos:\n",
    "\n",
    "* `cuadrados([2, -1.2, 3e2, 1j])` debe devolver `[4, 1.44, 90000.0, (-1+0j)]`\n",
    "* `cuadrados(i for i in range(10))` debe devolver `[0, 1, 4, 9, 16, 25, 36, 49, 64, 81]`"
   ]
  },
  {
   "cell_type": "code",
   "execution_count": 28,
   "metadata": {},
   "outputs": [
    {
     "data": {
      "text/plain": [
       "[0, 1, 4, 9, 16, 25, 36, 49, 64, 81]"
      ]
     },
     "execution_count": 28,
     "metadata": {},
     "output_type": "execute_result"
    }
   ],
   "source": [
    "def cuadrados(sec):\n",
    "    sec=list(sec)\n",
    "    for i in range(0,len(sec)):\n",
    "        sec[i]**=2\n",
    "    return sec\n",
    "        "
   ]
  },
  {
   "cell_type": "code",
   "execution_count": 29,
   "metadata": {},
   "outputs": [
    {
     "data": {
      "text/plain": [
       "[4, 1.44, 90000.0, (-1+0j)]"
      ]
     },
     "execution_count": 29,
     "metadata": {},
     "output_type": "execute_result"
    }
   ],
   "source": [
    "cuadrados([2, -1.2, 3e2, 1j])"
   ]
  },
  {
   "cell_type": "code",
   "execution_count": 30,
   "metadata": {},
   "outputs": [
    {
     "data": {
      "text/plain": [
       "[0, 1, 4, 9, 16, 25, 36, 49, 64, 81]"
      ]
     },
     "execution_count": 30,
     "metadata": {},
     "output_type": "execute_result"
    }
   ],
   "source": [
    "cuadrados(i for i in range(10))        "
   ]
  },
  {
   "cell_type": "markdown",
   "metadata": {},
   "source": [
    "###### Ejercicio 2"
   ]
  },
  {
   "cell_type": "markdown",
   "metadata": {},
   "source": [
    "Un número entero positivo se dice que es perfecto si coincide con la suma de todos sus divisores propios (es decir, distintos de él mismo). Se pide definir una función `escribe_perfectos` que, dados dos números enteros positivos `m` $\\leq$ `n`, imprima por pantalla todos los números perfectos entre `m` y `n`. Se pide también que se indiquen los divisores de cada número perfecto que se imprima."
   ]
  },
  {
   "cell_type": "markdown",
   "metadata": {},
   "source": [
    "###### Ejemplos:\n",
    "\n",
    "* `escribe_perfectos(1, 1000)` debe escribir en pantalla:\n",
    "\n",
    "```\n",
    "El número 6 es perfecto y sus divisores son [1, 2, 3]\n",
    "El número 28 es perfecto y sus divisores son [1, 2, 4, 7, 14]\n",
    "El número 496 es perfecto y sus divisores son [1, 2, 4, 8, 16, 31, 62, 124, 248]\n",
    "```"
   ]
  },
  {
   "cell_type": "code",
   "execution_count": 78,
   "metadata": {},
   "outputs": [],
   "source": [
    "def escribe_perfectos(i,j):\n",
    "    for k in range(i,j):\n",
    "        divisores=[]\n",
    "        for h in range(i,j):\n",
    "            if k%h == 0 and k != h:\n",
    "                divisores.append(h) \n",
    "        suma=0\n",
    "        for e in divisores:\n",
    "            suma += e\n",
    "        if k == suma:\n",
    "            print(\"El número\",k, \"es perfecto y sus divisores son\",divisores)\n",
    "        \n"
   ]
  },
  {
   "cell_type": "code",
   "execution_count": 52,
   "metadata": {},
   "outputs": [
    {
     "name": "stdout",
     "output_type": "stream",
     "text": [
      "El número 6 es perfecto y sus divisores son [1, 2, 3]\n",
      "El número 28 es perfecto y sus divisores son [1, 2, 4, 7, 14]\n",
      "El número 496 es perfecto y sus divisores son [1, 2, 4, 8, 16, 31, 62, 124, 248]\n"
     ]
    }
   ],
   "source": [
    "escribe_perfectos(1, 1000)"
   ]
  },
  {
   "cell_type": "markdown",
   "metadata": {},
   "source": [
    "###### Ejercicio 3"
   ]
  },
  {
   "cell_type": "markdown",
   "metadata": {},
   "source": [
    "Consideremos diccionarios cuyas claves son cadenas de caracteres de longitud uno y los valores asociados son números enteros no negativos, como por ejemplo el siguiente diccionario `d`:"
   ]
  },
  {
   "cell_type": "code",
   "execution_count": 81,
   "metadata": {},
   "outputs": [],
   "source": [
    "d = {'a': 5, 'b': 10, 'c': 12, 'd': 11, 'e': 15, 'f': 20, 'g': 15, 'h': 9, 'i': 7, 'j': 2}"
   ]
  },
  {
   "cell_type": "markdown",
   "metadata": {},
   "source": [
    "Se pide definir una función `histograma_horizontal` que, dado un diccionario del tipo anterior, escriba en pantalla el histograma de barras horizontales asociado, imprimiendo las barras de arriba a abajo en el orden que determina la función `sorted` sobre las claves, tal y como se ilustra en el siguiente ejemplo:"
   ]
  },
  {
   "cell_type": "markdown",
   "metadata": {},
   "source": [
    "* `histograma_horizontal(d)` debe escribir en pantalla:\n",
    "\n",
    "```\n",
    "a: *****\n",
    "b: **********\n",
    "c: ************\n",
    "d: ***********\n",
    "e: ***************\n",
    "f: ********************\n",
    "g: ***************\n",
    "h: *********\n",
    "i: *******\n",
    "j: **\n",
    "```"
   ]
  },
  {
   "cell_type": "code",
   "execution_count": 76,
   "metadata": {
    "scrolled": true
   },
   "outputs": [
    {
     "name": "stdout",
     "output_type": "stream",
     "text": [
      "a :  *****\n",
      "b :  **********\n",
      "c :  ************\n",
      "d :  ***********\n",
      "e :  ***************\n",
      "f :  ********************\n",
      "g :  ***************\n",
      "h :  *********\n",
      "i :  *******\n",
      "j :  **\n"
     ]
    }
   ],
   "source": [
    "def histograma_horizontal(dic):\n",
    "    sorted(dic)\n",
    "    for k, v in dic.items():\n",
    "        print(k, \": \", \"*\" * v)\n",
    "\n",
    "histograma_horizontal(d)"
   ]
  },
  {
   "cell_type": "markdown",
   "metadata": {},
   "source": [
    "Se pide definir una función `histograma_vertical` que, dado un diccionario del tipo anterior, escriba en pantalla el histograma de barras verticales asociado, imprimiendo las barras de izquierda a derecha en el orden que determina la función `sorted` sobre las claves, tal y como se ilustra en el siguiente ejemplo:"
   ]
  },
  {
   "cell_type": "markdown",
   "metadata": {},
   "source": [
    "* `histograma_vertical(d)` debe escribir en pantalla:\n",
    "\n",
    "```\n",
    "          *        \n",
    "          *        \n",
    "          *        \n",
    "          *        \n",
    "          *        \n",
    "        * * *      \n",
    "        * * *      \n",
    "        * * *      \n",
    "    *   * * *      \n",
    "    * * * * *      \n",
    "  * * * * * *      \n",
    "  * * * * * * *    \n",
    "  * * * * * * *    \n",
    "  * * * * * * * *  \n",
    "  * * * * * * * *  \n",
    "* * * * * * * * *  \n",
    "* * * * * * * * *  \n",
    "* * * * * * * * *  \n",
    "* * * * * * * * * *\n",
    "* * * * * * * * * *\n",
    "a b c d e f g h i j\n",
    "```"
   ]
  },
  {
   "cell_type": "code",
   "execution_count": 134,
   "metadata": {},
   "outputs": [],
   "source": [
    "def histograma_vertical(dic):\n",
    "    max_altura = max(dic.values())\n",
    "    for h in reversed(range(0,max_altura)):\n",
    "        line=\"\"\n",
    "        for i in range(0,len(list(dic.values()))):\n",
    "            if list(dic.values())[i]>=h:\n",
    "                line+=\"* \"\n",
    "            else:\n",
    "                line+=\"  \"\n",
    "        print(line)\n",
    "    names=list(dic.keys())  \n",
    "    string_names=\" \".join(names)\n",
    "    print(string_names)\n",
    "    \n"
   ]
  },
  {
   "cell_type": "code",
   "execution_count": 79,
   "metadata": {},
   "outputs": [],
   "source": [
    "def histograma_vertical2(dic2):\n",
    "    max_altura2 = max(dic2.values())\n",
    "    for h in reversed(range(0,max_altura2)):\n",
    "        line=\"\"\n",
    "        for i in dic2.values():\n",
    "            if i>=h:\n",
    "                line+=\"* \"\n",
    "            else:\n",
    "                line+=\"  \"\n",
    "        print(line)\n",
    "        names2=list(dic2.keys())  \n",
    "    string_names2=\" \".join(names2)\n",
    "    print(string_names2)\n",
    "    "
   ]
  },
  {
   "cell_type": "code",
   "execution_count": 82,
   "metadata": {},
   "outputs": [
    {
     "name": "stdout",
     "output_type": "stream",
     "text": [
      "          *         \n",
      "          *         \n",
      "          *         \n",
      "          *         \n",
      "        * * *       \n",
      "        * * *       \n",
      "        * * *       \n",
      "    *   * * *       \n",
      "    * * * * *       \n",
      "  * * * * * *       \n",
      "  * * * * * * *     \n",
      "  * * * * * * *     \n",
      "  * * * * * * * *   \n",
      "  * * * * * * * *   \n",
      "* * * * * * * * *   \n",
      "* * * * * * * * *   \n",
      "* * * * * * * * *   \n",
      "* * * * * * * * * * \n",
      "* * * * * * * * * * \n",
      "* * * * * * * * * * \n",
      "a b c d e f g h i j\n"
     ]
    }
   ],
   "source": [
    "histograma_vertical2(d)"
   ]
  },
  {
   "cell_type": "markdown",
   "metadata": {},
   "source": [
    "###### Ejercicio 4"
   ]
  },
  {
   "cell_type": "markdown",
   "metadata": {},
   "source": [
    "La profundidad de una lista anidada es el número máximo de anidamientos en la lista. Se pide definir una función `profundidad` que, dada una lista `l`, devuelva la profundidad de `l`.\n",
    "\n",
    "Indicación: para saber si un dato es una lista, puede que sea útil la función `isinstance`. En concreto, `isinstance(x, list)` comprueba si `x` es una lista."
   ]
  },
  {
   "cell_type": "markdown",
   "metadata": {},
   "source": [
    "###### Ejemplos:\n",
    "\n",
    "* `profundidad(3)` debe devolver `0`\n",
    "* `profundidad([7, 5, 9, 5, 6])` debe devolver `1`\n",
    "* `profundidad([1, [1, [1, [1, 1], 1], [1, 1]], 1])` debe devolver `4`"
   ]
  },
  {
   "cell_type": "code",
   "execution_count": 404,
   "metadata": {},
   "outputs": [],
   "source": [
    "def profundidad3(l3):\n",
    "    cont3=[]\n",
    "    if isinstance(l3, list):\n",
    "        for item in l3:\n",
    "            if isinstance(item, list):\n",
    "                cont3.append(profundidad3(item))\n",
    "    if len(cont3) > 0:\n",
    "        print(max(cont3))\n",
    "        return 1+ max(cont3)  \n",
    "    elif isinstance(l3, list):\n",
    "        return 1\n",
    "    else: return 0"
   ]
  },
  {
   "cell_type": "code",
   "execution_count": 405,
   "metadata": {},
   "outputs": [
    {
     "data": {
      "text/plain": [
       "0"
      ]
     },
     "execution_count": 405,
     "metadata": {},
     "output_type": "execute_result"
    }
   ],
   "source": [
    "profundidad3(3)"
   ]
  },
  {
   "cell_type": "code",
   "execution_count": 408,
   "metadata": {},
   "outputs": [
    {
     "name": "stdout",
     "output_type": "stream",
     "text": [
      "1\n",
      "2\n",
      "3\n"
     ]
    },
    {
     "data": {
      "text/plain": [
       "4"
      ]
     },
     "execution_count": 408,
     "metadata": {},
     "output_type": "execute_result"
    }
   ],
   "source": [
    "profundidad3([1, [1, [1, [1, 1], 1], [1, 1]], 1])"
   ]
  },
  {
   "cell_type": "code",
   "execution_count": 409,
   "metadata": {},
   "outputs": [
    {
     "data": {
      "text/plain": [
       "1"
      ]
     },
     "execution_count": 409,
     "metadata": {},
     "output_type": "execute_result"
    }
   ],
   "source": [
    "profundidad3([7, 5, 9, 5, 6])"
   ]
  },
  {
   "cell_type": "markdown",
   "metadata": {},
   "source": [
    "Cosas nuevas que aparecen en este ejercicio: \n",
    "\n",
    "-Concepto profundidad: La profundidad de una lista es una más que la profundidad máxima de sus sublistas.\n",
    "\n",
    "-Las funciones recursivas: son funciones que se llaman a sí mismas durante su propia ejecución. Ellas funcionan de forma similar a las iteraciones, pero debe encargarse de planificar el momento en que dejan de llamarse a sí mismas o tendrá una función recursiva infinita.\n",
    "\n",
    "-Se debe usar max y con una lista en lugar de un contador para que no cuente tambien las listas al mismo nivel.\n",
    "\n"
   ]
  },
  {
   "cell_type": "markdown",
   "metadata": {},
   "source": [
    "###### Ejercicio 5"
   ]
  },
  {
   "cell_type": "markdown",
   "metadata": {},
   "source": [
    "Supongamos que queremos simular la trayectoria de un proyectil que se dispara en un punto dado a una determinada altura inicial. El disparo se realiza hacia adelante con una velocidad inicial y con un determinado ángulo. Inicialmente el proyectil avanzará subiendo, pero por la fuerza de la gravedad, en un momento dado empezará a bajar hasta que aterrice. Por simplificar, supondremos que no existe rozamiento ni resistencia del viento.\n",
    "\n",
    "Se pide definir una clase `Proyectil` que sirva para representar el estado del proyectil en un instante de tiempo dado. Para ello, se necesitan al menos atributos de datos que guarden la siguiente información:\n",
    "* Distancia recorrida (en horizontal)\n",
    "* Altura\n",
    "* Velocidad horizontal\n",
    "* Velocidad vertical\n",
    "\n",
    "Además, se pide dotar a la clase `Proyectil` de los siguientes tres métodos:\n",
    "* obtener_pos_x: devuelve la distancia horizontal recorrida \n",
    "* obtener_pos_y: devuelve la distancia vertical recorrida \n",
    "* `actualizar_posición`: dada una cantidad `t` de segundos, actualiza la posición y la velocidad del proyectil tras haber transcurrido ese tiempo\n",
    "\n",
    "Una vez definida la clase `Proyectil`, se pide definir una función `aterriza` que, dados los datos de `altura`, `velocidad`, `ángulo` e `intervalo`, imprima por pantalla las distintas posiciones por las que pasa un proyectil que se ha disparado con esa `velocidad`, `ángulo` (en grados) y una `altura` inicial. Se mostrará la posición del proyectil en cada `intervalo` de tiempo, hasta que aterriza. Además también debe imprimir la altura máxima que ha alcanzado al final de cada intervalo, cuántos intervalos de tiempo ha tardado en aterrizar y el alcance que ha tenido.\n",
    "\n",
    "Indicaciones:\n",
    "1. Si el proyectil tiene una velocidad inicial $v$ y se lanza con un ángulo $\\theta$, las componentes horizontal y vertical de la velocidad inicial son $v \\times \\cos(\\theta)$ y $v \\times \\sin(\\theta)$, respectivamente.\n",
    "2. La componente horizontal de la velocidad, en ausencia de rozamiento y viento, podemos suponer que permanece constante.\n",
    "3. La componente vertical de la velocidad cambia de la siguiente manera tras un intervalo de tiempo $t$: si $vy_0$ es la velocidad vertical al inicio del intervalo, entonces al final del intervalo tiene una velocidad $vy_1 = vy_0 - 9.8 \\times t$, debido a la gravedad de la Tierra.\n",
    "4. En ese caso, si el proyectil se encuentra a una altura $h_0$, tras un intervalo de tiempo $t$ se encontrará a una altura $h_1 = h_0 + vm  \\times t$, donde $vm$ es la media entre las anteriores $vy_0$ y $vy_1$."
   ]
  },
  {
   "cell_type": "markdown",
   "metadata": {},
   "source": [
    "###### Ejemplo:\n",
    "\n",
    "* `aterriza(30, 1, 20, 0.1)` debe escribir en pantalla:\n",
    "\n",
    "```\n",
    "Proyectil en posición(0.0, 30.0)\n",
    "Proyectil en posición(0.1, 30.0)\n",
    "Proyectil en posición(0.2, 29.9)\n",
    "Proyectil en posición(0.3, 29.7)\n",
    "Proyectil en posición(0.4, 29.4)\n",
    "Proyectil en posición(0.5, 28.9)\n",
    "Proyectil en posición(0.6, 28.4)\n",
    "Proyectil en posición(0.7, 27.8)\n",
    "Proyectil en posición(0.8, 27.1)\n",
    "Proyectil en posición(0.8, 26.3)\n",
    "Proyectil en posición(0.9, 25.4)\n",
    "Proyectil en posición(1.0, 24.4)\n",
    "Proyectil en posición(1.1, 23.4)\n",
    "Proyectil en posición(1.2, 22.2)\n",
    "Proyectil en posición(1.3, 20.9)\n",
    "Proyectil en posición(1.4, 19.5)\n",
    "Proyectil en posición(1.5, 18.0)\n",
    "Proyectil en posición(1.6, 16.4)\n",
    "Proyectil en posición(1.7, 14.7)\n",
    "Proyectil en posición(1.8, 13.0)\n",
    "Proyectil en posición(1.9, 11.1)\n",
    "Proyectil en posición(2.0, 9.1)\n",
    "Proyectil en posición(2.1, 7.0)\n",
    "Proyectil en posición(2.2, 4.9)\n",
    "Proyectil en posición(2.3, 2.6)\n",
    "Proyectil en posición(2.3, 0.2)\n",
    "\n",
    "Tras 26 intervalos de 0.1 segundos (2.6 segundos) el proyectil ha aterrizado.\n",
    "Ha recorrido una distancia de 2.4 metros\n",
    "Ha alcanzado una altura máxima de 30.0 metros\n",
    "```"
   ]
  },
  {
   "cell_type": "code",
   "execution_count": 385,
   "metadata": {},
   "outputs": [],
   "source": [
    "class proyectil(object):\n",
    "    def __init__(self,dist=0,h=0, vx=0, vy=0):\n",
    "        self.dist = dist\n",
    "        self.h = h\n",
    "        self.vx= vx\n",
    "        self.vy= vy\n",
    "    def obtener_pos_x(self):\n",
    "        return self.dist\n",
    "    def obtener_pos_y(self):\n",
    "        return self.h\n",
    "    def actualizar_posicion(self,t):\n",
    "        #Vx se mantiene constante suponiendo que no hay rozamiento por el aire\n",
    "        #Vy se modifica por la gravedad de la tierra 𝑣𝑦1=𝑣𝑦0−9.8×𝑡\n",
    "        #Altura se modifica ℎ1=ℎ0+𝑣𝑚×𝑡, donde  𝑣𝑚  es la media entre las anteriores  𝑣𝑦0  y  𝑣𝑦1 \n",
    "        #Dist se modificará v*t\n",
    "        result=[]\n",
    "        vy0=self.vy\n",
    "        vy1=vy0-(9.8*t)\n",
    "        h1=self.h+(((vy1+vy0)/2)*t)\n",
    "        result.append(h1)\n",
    "        result.append(vy1)\n",
    "        return result"
   ]
  },
  {
   "cell_type": "code",
   "execution_count": 386,
   "metadata": {},
   "outputs": [
    {
     "data": {
      "text/plain": [
       "[30.751, 7.02]"
      ]
     },
     "execution_count": 386,
     "metadata": {},
     "output_type": "execute_result"
    }
   ],
   "source": [
    "mi_proyectil=proyectil(dist=0,h=30,vx=12,vy=8)\n",
    "mi_proyectil.actualizar_posicion(0.1)"
   ]
  },
  {
   "cell_type": "code",
   "execution_count": 402,
   "metadata": {},
   "outputs": [],
   "source": [
    "def aterriza(h,v,angulo,intervalo):\n",
    "    import math\n",
    "    intervalo=0.1\n",
    "    t = 0.0\n",
    "    miproy = proyectil(dist=0,h= h, vx= v*math.cos(angulo), vy= v*math.sin(angulo))\n",
    "    contador=0\n",
    "    alturas=[]\n",
    "    while h > 0:\n",
    "        nueva_pos = miproy.actualizar_posicion(t)\n",
    "        h=round(nueva_pos[0],1)\n",
    "        if h > 0:\n",
    "            alturas.append(h)\n",
    "            print(round(t,1), \"segundos después de despegar, su altura es\", h )\n",
    "            t=t+intervalo        \n",
    "            contador+=1\n",
    "        else:\n",
    "            print(\"Tras\", contador, \"intervalos de\", intervalo, \"(\", round(contador*intervalo,1), \")\", \"el proyectil ha aterrizado.\")\n",
    "            print(\"Ha recorrido una distancia de\", round(contador*intervalo0 * v,1), \"metros.\")\n",
    "            print(\"Ha alcanzado una altura máxima de\", max(alturas), \"metros.\")"
   ]
  },
  {
   "cell_type": "code",
   "execution_count": 403,
   "metadata": {},
   "outputs": [
    {
     "name": "stdout",
     "output_type": "stream",
     "text": [
      "0.0 segundos después de despegar, su altura es 30.0\n",
      "0.1 segundos después de despegar, su altura es 30.0\n",
      "0.2 segundos después de despegar, su altura es 30.0\n",
      "0.3 segundos después de despegar, su altura es 29.8\n",
      "0.4 segundos después de despegar, su altura es 29.6\n",
      "0.5 segundos después de despegar, su altura es 29.2\n",
      "0.6 segundos después de despegar, su altura es 28.8\n",
      "0.7 segundos después de despegar, su altura es 28.2\n",
      "0.8 segundos después de despegar, su altura es 27.6\n",
      "0.9 segundos después de despegar, su altura es 26.9\n",
      "1.0 segundos después de despegar, su altura es 26.0\n",
      "1.1 segundos después de despegar, su altura es 25.1\n",
      "1.2 segundos después de despegar, su altura es 24.0\n",
      "1.3 segundos después de despegar, su altura es 22.9\n",
      "1.4 segundos después de despegar, su altura es 21.7\n",
      "1.5 segundos después de despegar, su altura es 20.3\n",
      "1.6 segundos después de despegar, su altura es 18.9\n",
      "1.7 segundos después de despegar, su altura es 17.4\n",
      "1.8 segundos después de despegar, su altura es 15.8\n",
      "1.9 segundos después de despegar, su altura es 14.0\n",
      "2.0 segundos después de despegar, su altura es 12.2\n",
      "2.1 segundos después de despegar, su altura es 10.3\n",
      "2.2 segundos después de despegar, su altura es 8.3\n",
      "2.3 segundos después de despegar, su altura es 6.2\n",
      "2.4 segundos después de despegar, su altura es 4.0\n",
      "2.5 segundos después de despegar, su altura es 1.7\n",
      "Tras 26 intervalos de 0.1 ( 2.6 ) el proyectil ha aterrizado.\n",
      "Ha recorrido una distancia de 2.6 metros.\n",
      "Ha alcanzado una altura máxima de 30.0 metros.\n"
     ]
    }
   ],
   "source": [
    "aterriza(30, 1, 20, 0.1)"
   ]
  },
  {
   "cell_type": "code",
   "execution_count": null,
   "metadata": {},
   "outputs": [],
   "source": []
  }
 ],
 "metadata": {
  "kernelspec": {
   "display_name": "Python 3",
   "language": "python",
   "name": "python3"
  },
  "language_info": {
   "codemirror_mode": {
    "name": "ipython",
    "version": 3
   },
   "file_extension": ".py",
   "mimetype": "text/x-python",
   "name": "python",
   "nbconvert_exporter": "python",
   "pygments_lexer": "ipython3",
   "version": "3.8.8"
  }
 },
 "nbformat": 4,
 "nbformat_minor": 1
}
