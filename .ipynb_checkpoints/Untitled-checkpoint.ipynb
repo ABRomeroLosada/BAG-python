{
 "cells": [
  {
   "cell_type": "code",
   "execution_count": 16,
   "id": "23904571",
   "metadata": {},
   "outputs": [],
   "source": [
    "import pandas as pd\n",
    "import numpy as np\n",
    "from sklearn.model_selection import train_test_split\n",
    "from sklearn.feature_extraction.text import CountVectorizer\n",
    "from sklearn.naive_bayes import MultinomialNB\n",
    "from sklearn.metrics import accuracy_score, classification_report, confusion_matrix\n",
    "from sklearn.pipeline import make_pipeline\n",
    "\n",
    "# Preprocesamiento de datos\n",
    "# (Puede ser necesario instalar nltk usando pip install nltk)\n",
    "import nltk\n",
    "from nltk.corpus import stopwords\n",
    "from nltk.stem import PorterStemmer\n",
    "from nltk.tokenize import word_tokenize\n",
    "\n"
   ]
  },
  {
   "cell_type": "code",
   "execution_count": 17,
   "id": "c44d1d03",
   "metadata": {},
   "outputs": [
    {
     "data": {
      "text/html": [
       "<div>\n",
       "<style scoped>\n",
       "    .dataframe tbody tr th:only-of-type {\n",
       "        vertical-align: middle;\n",
       "    }\n",
       "\n",
       "    .dataframe tbody tr th {\n",
       "        vertical-align: top;\n",
       "    }\n",
       "\n",
       "    .dataframe thead th {\n",
       "        text-align: right;\n",
       "    }\n",
       "</style>\n",
       "<table border=\"1\" class=\"dataframe\">\n",
       "  <thead>\n",
       "    <tr style=\"text-align: right;\">\n",
       "      <th></th>\n",
       "      <th>label</th>\n",
       "      <th>text</th>\n",
       "    </tr>\n",
       "  </thead>\n",
       "  <tbody>\n",
       "    <tr>\n",
       "      <th>1</th>\n",
       "      <td>1</td>\n",
       "      <td>wulvob get your medircations online qnb ikud v...</td>\n",
       "    </tr>\n",
       "    <tr>\n",
       "      <th>2</th>\n",
       "      <td>0</td>\n",
       "      <td>computer connection from cnn com wednesday es...</td>\n",
       "    </tr>\n",
       "    <tr>\n",
       "      <th>3</th>\n",
       "      <td>1</td>\n",
       "      <td>university degree obtain a prosperous future m...</td>\n",
       "    </tr>\n",
       "    <tr>\n",
       "      <th>4</th>\n",
       "      <td>0</td>\n",
       "      <td>thanks for all your answers guys i know i shou...</td>\n",
       "    </tr>\n",
       "  </tbody>\n",
       "</table>\n",
       "</div>"
      ],
      "text/plain": [
       "   label                                               text\n",
       "1      1  wulvob get your medircations online qnb ikud v...\n",
       "2      0   computer connection from cnn com wednesday es...\n",
       "3      1  university degree obtain a prosperous future m...\n",
       "4      0  thanks for all your answers guys i know i shou..."
      ]
     },
     "execution_count": 17,
     "metadata": {},
     "output_type": "execute_result"
    }
   ],
   "source": [
    "\n",
    "data = pd.read_csv('combined_data.csv')\n",
    "data[1:5]"
   ]
  },
  {
   "cell_type": "code",
   "execution_count": null,
   "id": "a1707a5f",
   "metadata": {},
   "outputs": [],
   "source": []
  },
  {
   "cell_type": "code",
   "execution_count": 32,
   "id": "afd91fcf",
   "metadata": {},
   "outputs": [
    {
     "data": {
      "text/plain": [
       "0.9750149790293589"
      ]
     },
     "execution_count": 32,
     "metadata": {},
     "output_type": "execute_result"
    }
   ],
   "source": [
    "#Vectorizar el texto del atributo\n",
    "atributos=data[\"text\"]\n",
    "vectorizer = CountVectorizer()\n",
    "#Conviertelo en valores numérico\n",
    "atributos = vectorizer.fit_transform(atributos)\n",
    "\n",
    "#Extrae el objetivo (ya es numérico)\n",
    "objetivo=data[\"label\"]\n",
    "\n",
    "#Separa conjunto de entrenamiento y de prueba\n",
    "(atributos_entrenamiento, atributos_prueba,\n",
    " objetivo_entrenamiento, objetivo_prueba) = train_test_split(\n",
    "        atributos, objetivo,\n",
    "        random_state=12345,\n",
    "        test_size=.2,\n",
    "        stratify=objetivo)\n",
    "\n",
    "\n",
    "# entrenar el modelo de Naive Bayes\n",
    "spam_detector = MultinomialNB(alpha=1.0)  # alpha es el parámetro de suavizado\n",
    "spam_detector.fit(atributos_entrenamiento, objetivo_entrenamiento)\n",
    "\n",
    "# hacer predicciones con el conjunto de prueba\n",
    "predicciones = spam_detector.predict(atributos_prueba)\n",
    "# calcular la precisión del modelo\n",
    "spam_detector.score(atributos_prueba, objetivo_prueba)\n",
    "\n",
    "#print(\"Reporte de clasificación:\\n\", classification_report(y_test, y_pred))\n",
    "#print(\"Matriz de confusión:\\n\", confusion_matrix(y_test, y_pred)"
   ]
  },
  {
   "cell_type": "code",
   "execution_count": 31,
   "id": "c2196537",
   "metadata": {},
   "outputs": [
    {
     "name": "stdout",
     "output_type": "stream",
     "text": [
      "Texto del correo: ¡Felicidades! Has ganado un premio increíble. Haz clic aquí para reclamar tu premio.\n",
      "Predicción: 1 (spam/no_spam)\n"
     ]
    }
   ],
   "source": [
    "#Hago la prueba con un email\n",
    "email=[\"¡Felicidades! Has ganado un premio increíble. Haz clic aquí para reclamar tu premio.\"]\n",
    "#Conviertelo en valores numérico\n",
    "email_bien = vectorizer.transform(email) #sin el fit\n",
    "deteccion_email= spam_detector.predict(email_bien)\n",
    "\n",
    "print(f\"Texto del correo: {email[0]}\")\n",
    "print(f\"Predicción: {deteccion_email[0]} (spam/no_spam)\")\n",
    "\n",
    "    "
   ]
  },
  {
   "cell_type": "code",
   "execution_count": null,
   "id": "16892329",
   "metadata": {},
   "outputs": [],
   "source": []
  }
 ],
 "metadata": {
  "kernelspec": {
   "display_name": "Python 3",
   "language": "python",
   "name": "python3"
  },
  "language_info": {
   "codemirror_mode": {
    "name": "ipython",
    "version": 3
   },
   "file_extension": ".py",
   "mimetype": "text/x-python",
   "name": "python",
   "nbconvert_exporter": "python",
   "pygments_lexer": "ipython3",
   "version": "3.8.8"
  }
 },
 "nbformat": 4,
 "nbformat_minor": 5
}
