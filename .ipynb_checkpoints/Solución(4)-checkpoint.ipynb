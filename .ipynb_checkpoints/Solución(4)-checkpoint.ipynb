{
 "cells": [
  {
   "cell_type": "markdown",
   "metadata": {},
   "source": [
    "### El lenguaje de programación _Python_"
   ]
  },
  {
   "cell_type": "markdown",
   "metadata": {},
   "source": [
    "El objetivo de esta práctica es realizar una serie de ejercicios de familiarización con el lenguaje de programación _Python_."
   ]
  },
  {
   "cell_type": "markdown",
   "metadata": {},
   "source": [
    "Para evaluar las celdas se puede usar uno de los siguientes tres comandos:\n",
    "* Control-Enter: evalúa la celda y permanece en ella\n",
    "* Mayúsculas-Enter: evalúa la celda y selecciona la siguiente celda\n",
    "* Alt-Enter: evalúa la celda e inserta una celda vacía justo debajo"
   ]
  },
  {
   "cell_type": "markdown",
   "metadata": {},
   "source": [
    "#### Ejercicio 1"
   ]
  },
  {
   "cell_type": "markdown",
   "metadata": {},
   "source": [
    "Se pide definir una función `calcula_cuadrados` que, dada una lista `sec` de números, devuelva la lista de los cuadrados de esos números, en el mismo orden."
   ]
  },
  {
   "cell_type": "raw",
   "metadata": {},
   "source": [
    "Ejemplos:\n",
    "\n",
    "calcula_cuadrados([2, -1.2, 3e2, 1j]) debe devolver [4, 1.44, 90000.0, (-1+0j)]\n",
    "calcula_cuadrados(list(range(10))) debe devolver [0, 1, 4, 9, 16, 25, 36, 49, 64, 81]"
   ]
  },
  {
   "cell_type": "markdown",
   "metadata": {
    "tags": []
   },
   "source": [
    "#### Soluciones al ejercicio 1"
   ]
  },
  {
   "cell_type": "markdown",
   "metadata": {
    "tags": []
   },
   "source": [
    "##### Iteración con `while`"
   ]
  },
  {
   "cell_type": "code",
   "execution_count": 1,
   "metadata": {
    "tags": []
   },
   "outputs": [],
   "source": [
    "def calcula_cuadrados (sec):\n",
    "    l = []\n",
    "    i = 0\n",
    "    while i < len(sec):\n",
    "        l.append(sec[i] ** 2)\n",
    "        i += 1\n",
    "    return l"
   ]
  },
  {
   "cell_type": "code",
   "execution_count": 2,
   "metadata": {},
   "outputs": [
    {
     "data": {
      "text/plain": [
       "[4, 1.44, 90000.0, (-1+0j)]"
      ]
     },
     "execution_count": 2,
     "metadata": {},
     "output_type": "execute_result"
    }
   ],
   "source": [
    "calcula_cuadrados([2, -1.2, 3e2, 1j])"
   ]
  },
  {
   "cell_type": "code",
   "execution_count": 3,
   "metadata": {},
   "outputs": [
    {
     "data": {
      "text/plain": [
       "[0, 1, 4, 9, 16, 25, 36, 49, 64, 81]"
      ]
     },
     "execution_count": 3,
     "metadata": {},
     "output_type": "execute_result"
    }
   ],
   "source": [
    "calcula_cuadrados(list(range(10)))"
   ]
  },
  {
   "cell_type": "markdown",
   "metadata": {},
   "source": [
    "##### Iteración con `for`"
   ]
  },
  {
   "cell_type": "code",
   "execution_count": 4,
   "metadata": {
    "jupyter": {
     "outputs_hidden": false
    }
   },
   "outputs": [],
   "source": [
    "def calcula_cuadrados (sec):\n",
    "    l = []\n",
    "    for x in sec:\n",
    "        l.append(x ** 2)\n",
    "    return l"
   ]
  },
  {
   "cell_type": "code",
   "execution_count": 5,
   "metadata": {
    "jupyter": {
     "outputs_hidden": false
    }
   },
   "outputs": [
    {
     "data": {
      "text/plain": [
       "[4, 1.44, 90000.0, (-1+0j)]"
      ]
     },
     "execution_count": 5,
     "metadata": {},
     "output_type": "execute_result"
    }
   ],
   "source": [
    "calcula_cuadrados([2, -1.2, 3e2, 1j])"
   ]
  },
  {
   "cell_type": "code",
   "execution_count": 6,
   "metadata": {},
   "outputs": [
    {
     "data": {
      "text/plain": [
       "[0, 1, 4, 9, 16, 25, 36, 49, 64, 81]"
      ]
     },
     "execution_count": 6,
     "metadata": {},
     "output_type": "execute_result"
    }
   ],
   "source": [
    "calcula_cuadrados(list(range(10)))"
   ]
  },
  {
   "cell_type": "markdown",
   "metadata": {},
   "source": [
    "##### Listas por comprensión"
   ]
  },
  {
   "cell_type": "code",
   "execution_count": 7,
   "metadata": {
    "jupyter": {
     "outputs_hidden": false
    }
   },
   "outputs": [],
   "source": [
    "def calcula_cuadrados(sec):\n",
    "    return [x ** 2 for x in sec]"
   ]
  },
  {
   "cell_type": "code",
   "execution_count": 8,
   "metadata": {
    "jupyter": {
     "outputs_hidden": false
    }
   },
   "outputs": [
    {
     "data": {
      "text/plain": [
       "[4, 1.44, 90000.0, (-1+0j)]"
      ]
     },
     "execution_count": 8,
     "metadata": {},
     "output_type": "execute_result"
    }
   ],
   "source": [
    "calcula_cuadrados([2, -1.2, 3e2, 1j])"
   ]
  },
  {
   "cell_type": "code",
   "execution_count": 9,
   "metadata": {
    "tags": []
   },
   "outputs": [
    {
     "data": {
      "text/plain": [
       "[0, 1, 4, 9, 16, 25, 36, 49, 64, 81]"
      ]
     },
     "execution_count": 9,
     "metadata": {},
     "output_type": "execute_result"
    }
   ],
   "source": [
    "calcula_cuadrados(list(range(10)))"
   ]
  },
  {
   "cell_type": "markdown",
   "metadata": {},
   "source": [
    "#### Ejercicio 2"
   ]
  },
  {
   "cell_type": "markdown",
   "metadata": {},
   "source": [
    "Un número entero positivo se dice que es perfecto si coincide con la suma de todos sus divisores propios (es decir, distintos de él mismo). Se pide definir una función `escribe_perfectos` que, dados dos números enteros positivos `m` $\\leq$ `n`, imprima por pantalla todos los números perfectos entre `m` y `n`. Se pide también que se indiquen los divisores de cada número perfecto que se imprima."
   ]
  },
  {
   "cell_type": "raw",
   "metadata": {},
   "source": [
    "Ejemplos:\n",
    "\n",
    "escribe_perfectos(1, 1000) debe escribir en pantalla:\n",
    "El número 6 es perfecto y sus divisores son [1, 2, 3]\n",
    "El número 28 es perfecto y sus divisores son [1, 2, 4, 7, 14]\n",
    "El número 496 es perfecto y sus divisores son [1, 2, 4, 8, 16, 31, 62, 124, 248]"
   ]
  },
  {
   "cell_type": "markdown",
   "metadata": {
    "tags": []
   },
   "source": [
    "#### Soluciones al ejercicio 2"
   ]
  },
  {
   "cell_type": "markdown",
   "metadata": {
    "tags": []
   },
   "source": [
    "##### Usando auxiliares  "
   ]
  },
  {
   "cell_type": "markdown",
   "metadata": {
    "tags": []
   },
   "source": [
    "* La función `es_divisor`, dados dos números enteros positivos, `d` $\\leq$ `n`, determina si `d` es un divisor de `n`."
   ]
  },
  {
   "cell_type": "code",
   "execution_count": 10,
   "metadata": {
    "jupyter": {
     "outputs_hidden": false
    }
   },
   "outputs": [],
   "source": [
    "def es_divisor (d, n):\n",
    "    return n % d == 0"
   ]
  },
  {
   "cell_type": "code",
   "execution_count": 11,
   "metadata": {
    "jupyter": {
     "outputs_hidden": false
    }
   },
   "outputs": [
    {
     "data": {
      "text/plain": [
       "True"
      ]
     },
     "execution_count": 11,
     "metadata": {},
     "output_type": "execute_result"
    }
   ],
   "source": [
    "es_divisor(3, 6)"
   ]
  },
  {
   "cell_type": "code",
   "execution_count": 12,
   "metadata": {
    "jupyter": {
     "outputs_hidden": false
    }
   },
   "outputs": [
    {
     "data": {
      "text/plain": [
       "False"
      ]
     },
     "execution_count": 12,
     "metadata": {},
     "output_type": "execute_result"
    }
   ],
   "source": [
    "es_divisor(4, 9)"
   ]
  },
  {
   "cell_type": "markdown",
   "metadata": {},
   "source": [
    "* La función `calcula_divisores`, dado un número entero positivo, `n`, devuelve una lista con sus divisores. Se tiene en cuenta  que el mayor divisor, en caso de que lo sea, es `n/2`."
   ]
  },
  {
   "cell_type": "code",
   "execution_count": 13,
   "metadata": {
    "jupyter": {
     "outputs_hidden": false
    }
   },
   "outputs": [],
   "source": [
    "def calcula_divisores (n):\n",
    "    return [d for d in range(1, n//2 + 1) if es_divisor(d, n)]"
   ]
  },
  {
   "cell_type": "code",
   "execution_count": 14,
   "metadata": {
    "jupyter": {
     "outputs_hidden": false
    }
   },
   "outputs": [
    {
     "data": {
      "text/plain": [
       "[1, 2, 5]"
      ]
     },
     "execution_count": 14,
     "metadata": {},
     "output_type": "execute_result"
    }
   ],
   "source": [
    "calcula_divisores(10)"
   ]
  },
  {
   "cell_type": "code",
   "execution_count": 15,
   "metadata": {
    "jupyter": {
     "outputs_hidden": false
    }
   },
   "outputs": [
    {
     "data": {
      "text/plain": [
       "[1, 3, 5]"
      ]
     },
     "execution_count": 15,
     "metadata": {},
     "output_type": "execute_result"
    }
   ],
   "source": [
    "calcula_divisores(15)"
   ]
  },
  {
   "cell_type": "code",
   "execution_count": 16,
   "metadata": {
    "tags": []
   },
   "outputs": [],
   "source": [
    "def escribe_perfectos(m, n):\n",
    "    for k in range(m, n + 1):\n",
    "        divisores = calcula_divisores(k)\n",
    "        if k == sum(divisores):\n",
    "            print(f\"El número {k} es perfecto y sus divisores son {divisores}\")"
   ]
  },
  {
   "cell_type": "code",
   "execution_count": 17,
   "metadata": {
    "jupyter": {
     "outputs_hidden": false
    }
   },
   "outputs": [
    {
     "name": "stdout",
     "output_type": "stream",
     "text": [
      "El número 6 es perfecto y sus divisores son [1, 2, 3]\n",
      "El número 28 es perfecto y sus divisores son [1, 2, 4, 7, 14]\n",
      "El número 496 es perfecto y sus divisores son [1, 2, 4, 8, 16, 31, 62, 124, 248]\n"
     ]
    }
   ],
   "source": [
    "escribe_perfectos(1, 1000)"
   ]
  },
  {
   "cell_type": "markdown",
   "metadata": {},
   "source": [
    "##### Sin usar auxiliares"
   ]
  },
  {
   "cell_type": "code",
   "execution_count": 18,
   "metadata": {
    "tags": []
   },
   "outputs": [],
   "source": [
    "def escribe_perfectos(m, n):\n",
    "    for k in range(m, n + 1):\n",
    "        divisores = [d for d in range(1, k//2 + 1) if k % d == 0]\n",
    "        if k == sum(divisores):\n",
    "            print(f\"El número {k} es perfecto y sus divisores son {divisores}\")"
   ]
  },
  {
   "cell_type": "code",
   "execution_count": 19,
   "metadata": {
    "tags": []
   },
   "outputs": [
    {
     "name": "stdout",
     "output_type": "stream",
     "text": [
      "El número 6 es perfecto y sus divisores son [1, 2, 3]\n",
      "El número 28 es perfecto y sus divisores son [1, 2, 4, 7, 14]\n",
      "El número 496 es perfecto y sus divisores son [1, 2, 4, 8, 16, 31, 62, 124, 248]\n"
     ]
    }
   ],
   "source": [
    "escribe_perfectos(1, 1000)"
   ]
  },
  {
   "cell_type": "markdown",
   "metadata": {},
   "source": [
    "#### Ejercicio 3"
   ]
  },
  {
   "cell_type": "markdown",
   "metadata": {},
   "source": [
    "Consideremos diccionarios cuyas claves son cadenas de caracteres de longitud uno y los valores asociados son números enteros no negativos, como por ejemplo el siguiente diccionario `d`:"
   ]
  },
  {
   "cell_type": "code",
   "execution_count": 3,
   "metadata": {
    "tags": []
   },
   "outputs": [],
   "source": [
    "d = {'a': 5, 'b': 10, 'c': 12, 'd': 11, 'e': 15, 'f': 20, 'g': 15, 'h': 9, 'i': 7, 'j': 2}"
   ]
  },
  {
   "cell_type": "markdown",
   "metadata": {},
   "source": [
    "Se pide definir una función `dibuja_histograma_horizontal` que, dado un diccionario del tipo anterior, escriba en pantalla el histograma de barras horizontales asociado, imprimiendo las barras de arriba a abajo en el orden que determina la función `sorted` sobre las claves, tal y como se ilustra en el siguiente ejemplo:"
   ]
  },
  {
   "cell_type": "raw",
   "metadata": {},
   "source": [
    "dibuja_histograma_horizontal(d)\n",
    "a: *****\n",
    "b: **********\n",
    "c: ************\n",
    "d: ***********\n",
    "e: ***************\n",
    "f: ********************\n",
    "g: ***************\n",
    "h: *********\n",
    "i: *******\n",
    "j: **"
   ]
  },
  {
   "cell_type": "markdown",
   "metadata": {},
   "source": [
    "Se pide definir una función `dibuja_histograma_vertical` que, dado un diccionario del tipo anterior, escriba en pantalla el histograma de barras verticales asociado, imprimiendo las barras de izquierda a derecha en el orden que determina la función `sorted` sobre las claves, tal y como se ilustra en el siguiente ejemplo:"
   ]
  },
  {
   "cell_type": "raw",
   "metadata": {},
   "source": [
    "dibuja_histograma_vertical(d)\n",
    "          *        \n",
    "          *        \n",
    "          *        \n",
    "          *        \n",
    "          *        \n",
    "        * * *      \n",
    "        * * *      \n",
    "        * * *      \n",
    "    *   * * *      \n",
    "    * * * * *      \n",
    "  * * * * * *      \n",
    "  * * * * * * *    \n",
    "  * * * * * * *    \n",
    "  * * * * * * * *  \n",
    "  * * * * * * * *  \n",
    "* * * * * * * * *  \n",
    "* * * * * * * * *  \n",
    "* * * * * * * * *  \n",
    "* * * * * * * * * *\n",
    "* * * * * * * * * *\n",
    "a b c d e f g h i j"
   ]
  },
  {
   "cell_type": "markdown",
   "metadata": {
    "tags": []
   },
   "source": [
    "#### Soluciones al ejercicio 3"
   ]
  },
  {
   "cell_type": "markdown",
   "metadata": {
    "tags": []
   },
   "source": [
    "##### Histograma horizontal"
   ]
  },
  {
   "cell_type": "code",
   "execution_count": 21,
   "metadata": {
    "tags": []
   },
   "outputs": [],
   "source": [
    "def dibuja_histograma_horizontal(dic):\n",
    "    for clave, valor in sorted(dic.items()):\n",
    "        print(f\"{clave}: {'*'*valor}\")"
   ]
  },
  {
   "cell_type": "code",
   "execution_count": 22,
   "metadata": {
    "jupyter": {
     "outputs_hidden": false
    }
   },
   "outputs": [
    {
     "name": "stdout",
     "output_type": "stream",
     "text": [
      "a: *****\n",
      "b: **********\n",
      "c: ************\n",
      "d: ***********\n",
      "e: ***************\n",
      "f: ********************\n",
      "g: ***************\n",
      "h: *********\n",
      "i: *******\n",
      "j: **\n"
     ]
    }
   ],
   "source": [
    "dibuja_histograma_horizontal(d)"
   ]
  },
  {
   "cell_type": "markdown",
   "metadata": {},
   "source": [
    "##### Histograma vertical (construcción directa)"
   ]
  },
  {
   "cell_type": "code",
   "execution_count": 10,
   "metadata": {
    "jupyter": {
     "outputs_hidden": false
    }
   },
   "outputs": [],
   "source": [
    "def dibuja_histograma_vertical(dic):\n",
    "    máxima_altura = max(dic.values())\n",
    "    claves = sorted(dic.keys())\n",
    "    for altura in range(máxima_altura, -1, -1):\n",
    "        línea = [' ' if dic[clave] < altura else '*'\n",
    "                 for clave in claves]\n",
    "        print(''.join(línea))\n",
    "    print(''.join(claves))"
   ]
  },
  {
   "cell_type": "code",
   "execution_count": 11,
   "metadata": {},
   "outputs": [
    {
     "name": "stdout",
     "output_type": "stream",
     "text": [
      "     *    \n",
      "     *    \n",
      "     *    \n",
      "     *    \n",
      "     *    \n",
      "    ***   \n",
      "    ***   \n",
      "    ***   \n",
      "  * ***   \n",
      "  *****   \n",
      " ******   \n",
      " *******  \n",
      " *******  \n",
      " ******** \n",
      " ******** \n",
      "********* \n",
      "********* \n",
      "********* \n",
      "**********\n",
      "**********\n",
      "**********\n",
      "abcdefghij\n"
     ]
    }
   ],
   "source": [
    "dibuja_histograma_vertical(d)"
   ]
  },
  {
   "cell_type": "markdown",
   "metadata": {},
   "source": [
    "##### Histograma vertical (trasponiendo el histograma horizontal)"
   ]
  },
  {
   "cell_type": "code",
   "execution_count": 12,
   "metadata": {},
   "outputs": [],
   "source": [
    "def construye_histograma_horizontal(dic):\n",
    "    máxima_altura = max(dic.values())\n",
    "    histograma = [f\"{clave}{'*'*valor}{' '*(máxima_altura - valor)}\"\n",
    "                  for clave, valor in sorted(dic.items())]\n",
    "    return histograma\n",
    "\n",
    "def dibuja_histograma_vertical(dic):\n",
    "    histograma_horizontal = construye_histograma_horizontal(dic)\n",
    "    for línea in reversed(list(zip(*histograma_horizontal))):\n",
    "        print(' '.join(línea))"
   ]
  },
  {
   "cell_type": "markdown",
   "metadata": {},
   "source": [
    "#### Ejercicio 4"
   ]
  },
  {
   "cell_type": "markdown",
   "metadata": {},
   "source": [
    "La profundidad de una lista anidada es el número máximo de anidamientos en la lista. Se pide definir una función `calcula_profundidad` que, dada una lista `l`, devuelva la profundidad de `l`.\n",
    "\n",
    "Indicación: para saber si un dato es una lista, puede que sea útil la función `isinstance`. En concreto, `isinstance(x, list)` comprueba si `x` es una lista."
   ]
  },
  {
   "cell_type": "raw",
   "metadata": {},
   "source": [
    "Ejemplos:\n",
    "\n",
    "calcula_profundidad(3) debe devolver 0\n",
    "calcula_profundidad([7, 5, 9, 5, 6]) debe devolver 1\n",
    "calcula_profundidad([1, [1, [1, [1, 1], 1], [1, 1]], 1]) debe devolver 4"
   ]
  },
  {
   "cell_type": "markdown",
   "metadata": {
    "tags": []
   },
   "source": [
    "#### Solución del ejercicio 4"
   ]
  },
  {
   "cell_type": "code",
   "execution_count": 26,
   "metadata": {
    "tags": []
   },
   "outputs": [],
   "source": [
    "def calcula_profundidad (l):\n",
    "    if isinstance(l, list):\n",
    "        return max(calcula_profundidad(m) for m in l) + 1\n",
    "    else:\n",
    "        return 0"
   ]
  },
  {
   "cell_type": "code",
   "execution_count": 27,
   "metadata": {
    "tags": []
   },
   "outputs": [
    {
     "data": {
      "text/plain": [
       "0"
      ]
     },
     "execution_count": 27,
     "metadata": {},
     "output_type": "execute_result"
    }
   ],
   "source": [
    "calcula_profundidad(3)"
   ]
  },
  {
   "cell_type": "code",
   "execution_count": 28,
   "metadata": {},
   "outputs": [
    {
     "data": {
      "text/plain": [
       "1"
      ]
     },
     "execution_count": 28,
     "metadata": {},
     "output_type": "execute_result"
    }
   ],
   "source": [
    "calcula_profundidad([7, 5, 9, 5, 6])"
   ]
  },
  {
   "cell_type": "code",
   "execution_count": 29,
   "metadata": {},
   "outputs": [
    {
     "data": {
      "text/plain": [
       "4"
      ]
     },
     "execution_count": 29,
     "metadata": {},
     "output_type": "execute_result"
    }
   ],
   "source": [
    "calcula_profundidad([1, [1, [1, [1, 1], 1], [1, 1]], 1])"
   ]
  },
  {
   "cell_type": "markdown",
   "metadata": {},
   "source": [
    "#### Ejercicio 5"
   ]
  },
  {
   "cell_type": "markdown",
   "metadata": {},
   "source": [
    "Supongamos que queremos simular la trayectoria de un proyectil que se dispara en un punto dado a una determinada altura inicial. El disparo se realiza hacia adelante con una velocidad inicial y con un determinado ángulo. Inicialmente el proyectil avanzará subiendo, pero, por la fuerza de la gravedad, en un momento dado empezará a bajar hasta que aterrice. Por simplificar, supondremos que no existe rozamiento ni resistencia del viento.\n",
    "\n",
    "Se pide definir una clase `Proyectil` que sirva para representar el estado del proyectil en un instante de tiempo dado. Para ello, se necesitan al menos atributos de datos que guarden la siguiente información:\n",
    "* Distancia recorrida (en horizontal).\n",
    "* Altura.\n",
    "* Velocidad horizontal.\n",
    "* Velocidad vertical.\n",
    "\n",
    "Además, se pide dotar a la clase `Proyectil` de los siguientes tres métodos:\n",
    "* `obtener_pos_x`: devuelve la distancia horizontal recorrida.\n",
    "* `obtener_pos_y`: devuelve la distancia vertical recorrida.\n",
    "* `actualizar_posición`: dada una cantidad `t` de segundos, actualiza la posición y la velocidad del proyectil tras haber transcurrido ese tiempo.\n",
    "\n",
    "Una vez definida la clase `Proyectil`, se pide definir una función `describe_trayectoria` que, dados los datos de `altura`, `velocidad`, `ángulo` e `intervalo`, imprima por pantalla las distintas posiciones por las que pasa un proyectil que se ha disparado con esa `velocidad`, `ángulo` (en grados) y una `altura` inicial. Se mostrará la posición del proyectil en cada `intervalo` de tiempo, hasta que aterriza. Además, también debe imprimir la altura máxima que ha alcanzado al final de cada intervalo, cuántos intervalos de tiempo ha tardado en aterrizar y el alcance que ha tenido.\n",
    "\n",
    "Indicaciones:\n",
    "1. Si el proyectil tiene una velocidad inicial $v$ y se lanza con un ángulo $\\theta$, las componentes horizontal y vertical de la velocidad inicial son $v \\times \\cos(\\theta)$ y $v \\times \\sin(\\theta)$, respectivamente.\n",
    "2. La componente horizontal de la velocidad, en ausencia de rozamiento y viento, podemos suponer que permanece constante.\n",
    "3. La componente vertical de la velocidad cambia de la siguiente manera tras un intervalo de tiempo $t$: si $vy_0$ es la velocidad vertical al inicio del intervalo, entonces al final del intervalo tiene una velocidad $vy_1 = vy_0 - 9.8 \\times t$, debido a la gravedad de la Tierra.\n",
    "4. En ese caso, si el proyectil se encuentra a una altura $h_0$, tras un intervalo de tiempo $t$ se encontrará a una altura $h_1 = h_0 + vm \\times t$, donde $vm$ es la media entre las anteriores $vy_0$ y $vy_1$."
   ]
  },
  {
   "cell_type": "raw",
   "metadata": {},
   "source": [
    "Ejemplo:\n",
    "\n",
    "describe_trayectoria(30, 1, 20, 0.1)\n",
    "Proyectil en posición(0.0, 30.0)\n",
    "Proyectil en posición(0.1, 30.0)\n",
    "Proyectil en posición(0.2, 29.9)\n",
    "Proyectil en posición(0.3, 29.7)\n",
    "Proyectil en posición(0.4, 29.4)\n",
    "Proyectil en posición(0.5, 28.9)\n",
    "Proyectil en posición(0.6, 28.4)\n",
    "Proyectil en posición(0.7, 27.8)\n",
    "Proyectil en posición(0.8, 27.1)\n",
    "Proyectil en posición(0.8, 26.3)\n",
    "Proyectil en posición(0.9, 25.4)\n",
    "Proyectil en posición(1.0, 24.4)\n",
    "Proyectil en posición(1.1, 23.4)\n",
    "Proyectil en posición(1.2, 22.2)\n",
    "Proyectil en posición(1.3, 20.9)\n",
    "Proyectil en posición(1.4, 19.5)\n",
    "Proyectil en posición(1.5, 18.0)\n",
    "Proyectil en posición(1.6, 16.4)\n",
    "Proyectil en posición(1.7, 14.7)\n",
    "Proyectil en posición(1.8, 13.0)\n",
    "Proyectil en posición(1.9, 11.1)\n",
    "Proyectil en posición(2.0, 9.1)\n",
    "Proyectil en posición(2.1, 7.0)\n",
    "Proyectil en posición(2.2, 4.9)\n",
    "Proyectil en posición(2.3, 2.6)\n",
    "Proyectil en posición(2.3, 0.2)\n",
    "\n",
    "Tras 26 intervalos de 0.1 segundos (2.6 segundos) el proyectil ha aterrizado.\n",
    "Ha recorrido una distancia de 2.4 metros\n",
    "Ha alcanzado una altura máxima de 30.0 metros"
   ]
  },
  {
   "cell_type": "markdown",
   "metadata": {},
   "source": [
    "#### Solución al ejercicio 5"
   ]
  },
  {
   "cell_type": "code",
   "execution_count": 30,
   "metadata": {
    "tags": []
   },
   "outputs": [],
   "source": [
    "import math\n",
    "\n",
    "class Proyectil:\n",
    "    def __init__(self, ángulo, velocidad, altura):\n",
    "        self.posx = 0\n",
    "        self.posy = altura\n",
    "        theta = math.radians(ángulo)\n",
    "        self.vx = velocidad * math.cos(theta)\n",
    "        self.vy = velocidad * math.sin(theta)\n",
    "\n",
    "    def actualizar_posición (self, t):\n",
    "        self.posx += t * self.vx\n",
    "        vy1 = self.vy - 9.8 * t\n",
    "        self.posy += t * (self.vy + vy1) / 2\n",
    "        self.vy = vy1\n",
    "\n",
    "    def obtener_pos_x (self):\n",
    "        return self.posx\n",
    "\n",
    "    def obtener_pos_y (self):\n",
    "        return self.posy\n",
    "    \n",
    "\n",
    "def describe_trayectoria(altura, velocidad, ángulo, intervalo):\n",
    "    proyectil = Proyectil(ángulo, velocidad, altura)\n",
    "    n = 0\n",
    "    altura_máxima = -1\n",
    "    while proyectil.obtener_pos_y() >= 0:\n",
    "        posx, posy = proyectil.obtener_pos_x(), proyectil.obtener_pos_y()\n",
    "        print(f\"Proyectil en posición({posx:0.1f}, {posy:0.1f})\")\n",
    "        if proyectil.obtener_pos_y() > altura_máxima:\n",
    "            altura_máxima = proyectil.obtener_pos_y()\n",
    "        proyectil.actualizar_posición(intervalo)\n",
    "        n += 1\n",
    "    print()\n",
    "    print(f\"Tras {n} intervalos de {intervalo} segundos ({n*intervalo} segundos) el proyectil ha aterrizado.\")\n",
    "    print(f\"Ha recorrido una distancia de {proyectil.obtener_pos_x():0.1f} metros\")\n",
    "    print(f\"Ha alcanzado una altura máxima de {altura_máxima:0.1f} metros\")"
   ]
  },
  {
   "cell_type": "code",
   "execution_count": 31,
   "metadata": {
    "tags": []
   },
   "outputs": [
    {
     "name": "stdout",
     "output_type": "stream",
     "text": [
      "Proyectil en posición(0.0, 30.0)\n",
      "Proyectil en posición(7.7, 35.2)\n",
      "Proyectil en posición(15.3, 38.0)\n",
      "Proyectil en posición(23.0, 38.3)\n",
      "Proyectil en posición(30.6, 36.1)\n",
      "Proyectil en posición(38.3, 31.5)\n",
      "Proyectil en posición(46.0, 24.5)\n",
      "Proyectil en posición(53.6, 15.0)\n",
      "Proyectil en posición(61.3, 3.0)\n",
      "\n",
      "Tras 9 intervalos de 0.5 segundos (4.5 segundos) el proyectil ha aterrizado.\n",
      "Ha recorrido una distancia de 68.9 metros\n",
      "Ha alcanzado una altura máxima de 38.3 metros\n"
     ]
    }
   ],
   "source": [
    "describe_trayectoria(30, 20, 40, 0.5)"
   ]
  }
 ],
 "metadata": {
  "kernelspec": {
   "display_name": "Python 3",
   "language": "python",
   "name": "python3"
  },
  "language_info": {
   "codemirror_mode": {
    "name": "ipython",
    "version": 3
   },
   "file_extension": ".py",
   "mimetype": "text/x-python",
   "name": "python",
   "nbconvert_exporter": "python",
   "pygments_lexer": "ipython3",
   "version": "3.8.8"
  }
 },
 "nbformat": 4,
 "nbformat_minor": 4
}
