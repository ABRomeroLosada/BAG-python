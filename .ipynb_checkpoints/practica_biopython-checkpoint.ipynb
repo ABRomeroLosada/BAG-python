{
 "cells": [
  {
   "cell_type": "markdown",
   "metadata": {},
   "source": [
    "# Bioinformática y Análisis Genómico\n",
    "# 4º curso Grado en Bioquímica - Mención en Biotecnología\n",
    "# Curso 2022/2023\n",
    "## Práctica 2: Introducción a Biopython\n",
    "### Profesora:Ana Belén Romero\n",
    "### arlosada@us.es\n"
   ]
  },
  {
   "cell_type": "markdown",
   "metadata": {},
   "source": [
    "**Biopython** https://biopython.org/ es un conjunto de herramientas de libre acceso para la biología computacional escritas en Python por un equipo internacional de desarrolladores.\n",
    "\n",
    "Se trata de un esfuerzo de colaboración distribuido para desarrollar bibliotecas y aplicaciones en Python que satisfagan las necesidades del trabajo actual y futuro en bioinformática. El código fuente está disponible bajo la Licencia de Biopython, que es extremadamente permisiva y compatible con casi todas las licencias del mundo."
   ]
  },
  {
   "cell_type": "markdown",
   "metadata": {},
   "source": [
    "En esta práctica se va a aprender a instalar y utilizar Biopython en un entorno de Anaconda https://www.anaconda.com/ \n",
    "\n",
    "Lo cual debería ser compatible con los principales Sistemas Operativos, aunque se recomienda la utilización de Linux."
   ]
  },
  {
   "cell_type": "markdown",
   "metadata": {},
   "source": [
    "## Instalación de Biopython en un entorno de Anaconda\n",
    "\n",
    "* Requisitos: Una instalación de *Anaconda*\n",
    "* Abrir un terminal en Linux o Mac, o bien ejecutar el programa *Anaconda Prompt* en Windows\n",
    "* Crear un nuevo entorno de Python con Biopython llamado *bioinformatics* mediante el comando:\n",
    "    * **conda create -n bioinformatics biopython**\n",
    "* Activar el entorno creado\n",
    "    * **conda activate bioinformatics**\n",
    "* Es necesario volver a instalar jupyter para el entorno creado\n",
    "    * **conda install jupyter**\n",
    "* Iniciar jupyter\n",
    "    * **jupyter notebook**"
   ]
  },
  {
   "cell_type": "markdown",
   "metadata": {},
   "source": [
    "## Importacion de bibiotecas y funciones\n",
    "\n",
    "El paquete principal de Biopython se llama Bio, conteniendo diferentes subpaquetes con diversa funcionalidad.\n",
    "Consultad https://biopython.org/wiki/Documentation para más información.\n",
    "\n",
    "Vamos a importar una serie de subpaquetes de Bio, así comprobaremos si la instalación se ha hecho correctamente."
   ]
  },
  {
   "cell_type": "code",
   "execution_count": 1,
   "metadata": {},
   "outputs": [],
   "source": [
    "from Bio import Entrez, Seq, SeqIO"
   ]
  },
  {
   "cell_type": "markdown",
   "metadata": {},
   "source": [
    "## Descargarse una secuencia"
   ]
  },
  {
   "cell_type": "code",
   "execution_count": 5,
   "metadata": {},
   "outputs": [],
   "source": [
    "#Antes de acceder a cualquier base de datos nos identificamos: \n",
    "Entrez.email = 'arlosada@us.es'\n",
    "#cambiad mi email por el vuestro"
   ]
  },
  {
   "cell_type": "markdown",
   "metadata": {},
   "source": [
    "Se usa el paquete Entrez. Este paquete tiene varias funciones asociadas, la que más vamos a usar es \"efetch\" que sirve para extraer datos de las distintas bases de datos que incluye.\n",
    "\n",
    "Para usar funciones asociadas a un paquete concreto se sigue la estructura <nombreDePaquete>.<nombreDeFuncion>. Por ejemplo, Entrez.efectch(parámetros de entrada)\n"
   ]
  },
  {
   "cell_type": "code",
   "execution_count": 8,
   "metadata": {},
   "outputs": [
    {
     "name": "stdout",
     "output_type": "stream",
     "text": [
      "ID: NM_002299.4\n",
      "Name: NM_002299.4\n",
      "Description: NM_002299.4 Homo sapiens lactase (LCT), mRNA\n",
      "Number of features: 0\n",
      "Seq('AACAGTTCCTAGAAAATGGAGCTGTCTTGGCATGTAGTCTTTATTGCCCTGCTA...GTC')\n"
     ]
    }
   ],
   "source": [
    "# Vamos a buscar una secuencia por Accesion number y obtenerla en formato FASTA\n",
    "handle = Entrez.efetch(db='nucleotide', id=['NM_002299'], rettype='fasta')  # Lactase gene\n",
    "\n",
    "#Lo que nos devuelve el paquete Entrez es un objeto de clase \"handler\", es un\n",
    "#objeto especifico de varios paquetes y no se puede leer. Para que pase a un\n",
    "#objeto que puede tratarse como texto, lo cual es necesario para tratarlo como\n",
    "#secuencia, tenemos que usar la funcion \"parse\" de SeqIO.\n",
    "sequences = list(SeqIO.parse(handle, 'fasta')) #lo \"traduce\" de handler a fasta \n",
    "# Recordemos que un FASTA puede tener diversas secuencias si son varios cromosomas\n",
    "#o plásmidos\n",
    "for seq in sequences:\n",
    "    print(seq)\n",
    "    \n",
    "#en este caso solo tiene una, si no aparecería más de una \n",
    "#descripción y Seq('...')"
   ]
  },
  {
   "cell_type": "code",
   "execution_count": null,
   "metadata": {},
   "outputs": [],
   "source": [
    "#Vamos a guardar el FASTA en un fichero en nuestro ordenador con la funcion write\n",
    "#de SeqIO\n",
    "SeqIO.write(sequences, \"lactase.fasta\", \"fasta\")"
   ]
  },
  {
   "cell_type": "code",
   "execution_count": null,
   "metadata": {},
   "outputs": [],
   "source": [
    "#Ahora, para leer un fichero que tuvieramos en nuestro ordenador sería:\n",
    "lactase = list(SeqIO.parse(\"lactase.fasta\", \"fasta\"))\n",
    "#usamos list() para que nos lo devuelva en forma de lista"
   ]
  },
  {
   "cell_type": "code",
   "execution_count": null,
   "metadata": {},
   "outputs": [],
   "source": [
    "# La variable lactase contiene el FASTA leido, \n",
    "#la variable sequences contiene el FASTA descargado (veis que son iguales, porque\n",
    "#solo nos descargamos una secuencia y era la de la lactasa)\n",
    "print(lactase)\n",
    "print(recs)"
   ]
  },
  {
   "cell_type": "code",
   "execution_count": 15,
   "metadata": {},
   "outputs": [
    {
     "name": "stdout",
     "output_type": "stream",
     "text": [
      "AACAGTTCCTAGAAAATGGAGCTGTCTTGGCATGTAGTCTTTATTGCCCTGCTAAGTTTTTCATGCTGGGGGTCAGACTGGGAGTCTGATAGAAATTTCATTTCCACCGCTGGTCCTCTAACCAATGACTTGCTGCACAACCTGAGTGGTCTCCTGGGAGACCAGAGTTCTAACTTTGTAGCAGGGGACAAAGACATGTATGTTTGTCACCAGCCACTGCCCACTTTCCTGCCAGAATACTTCAGCAGTCTCCATGCCAGTCAGATCACCCATTATAAGGTATTTCTGTCATGGGCACAGCTCCTCCCAGCAGGAAGCACCCAGAATCCAGACGAGAAAACAGTGCAGTGCTACCGGCGACTCCTCAAGGCCCTCAAGACTGCACGGCTTCAGCCCATGGTCATCCTGCACCACCAGACCCTCCCTGCCAGCACCCTCCGGAGAACCGAAGCCTTTGCTGACCTCTTCGCCGACTATGCCACATTCGCCTTCCACTCCTTCGGGGACCTAGTTGGGATCTGGTTCACCTTCAGTGACTTGGAGGAAGTGATCAAGGAGCTTCCCCACCAGGAATCAAGAGCGTCACAACTCCAGACCCTCAGTGATGCCCACAGAAAAGCCTATGAGATTTACCACGAAAGCTATGCTTTTCAGGGCGGAAAACTCTCTGTTGTCCTGCGAGCTGAAGATATCCCGGAGCTCCTGCTAGAACCACCCATATCTGCGCTTGCCCAGGACACGGTCGATTTCCTCTCTCTTGATTTGTCTTATGAATGCCAAAATGAGGCAAGTCTGCGGCAGAAGCTGAGTAAATTGCAGACCATTGAGCCAAAAGTGAAAGTTTTCATCTTCAACCTAAAACTCCCAGACTGCCCCTCCACCATGAAGAACCCAGCCAGTCTGCTCTTCAGCCTTTTTGAAGCCATAAATAAAGACCAAGTGCTCACCATTGGGTTTGATATTAATGAGTTTCTGAGTTGTTCATCAAGTTCCAAGAAAAGCATGTCTTGTTCTCTGACTGGCAGCCTGGCCCTTCAGCCTGACCAGCAGCAGGACCACGAGACCACGGACTCCTCTCCTGCCTCTGCCTATCAGAGAATCTGGGAAGCATTTGCCAATCAGTCCAGGGCGGAAAGGGATGCCTTCCTGCAGGATACTTTCCCTGAAGGCTTCCTCTGGGGTGCCTCCACAGGAGCCTTTAACGTGGAAGGAGGCTGGGCCGAGGGTGGGAGAGGGGTGAGCATCTGGGATCCACGCAGGCCCCTGAACACCACTGAGGGCCAAGCGACGCTGGAGGTGGCCAGCGACAGTTACCACAAGGTAGCCTCTGACGTCGCCCTGCTTTGCGGCCTCCGGGCTCAGGTGTACAAGTTCTCCATCTCCTGGTCCCGGATCTTCCCCATGGGGCACGGGAGCAGCCCCAGCCTCCCAGGCGTTGCCTACTACAACAAGCTGATTGACAGGCTACAGGATGCGGGCATCGAGCCCATGGCCACGCTGTTCCACTGGGACCTGCCTCAGGCCCTGCAGGATCATGGTGGATGGCAGAATGAGAGCGTGGTGGATGCCTTCCTGGACTATGCGGCCTTCTGCTTCTCCACATTTGGGGACCGTGTGAAGCTGTGGGTGACCTTCCATGAGCCGTGGGTGATGAGCTACGCAGGCTATGGCACCGGCCAGCACCCTCCCGGCATCTCTGACCCAGGAGTGGCCTCTTTTAAGGTGGCTCACTTGGTCCTCAAGGCTCATGCCAGAACTTGGCACCACTACAACAGCCATCATCGCCCACAGCAGCAGGGGCACGTGGGCATTGTGCTGAACTCAGACTGGGCAGAACCCCTGTCTCCAGAGAGGCCTGAGGACCTGAGAGCCTCTGAGCGCTTCTTGCACTTCATGCTGGGCTGGTTTGCACACCCCGTCTTTGTGGATGGAGACTACCCAGCCACCCTGAGGACCCAGATCCAACAGATGAACAGACAGTGCTCCCATCCTGTGGCTCAACTCCCCGAGTTCACAGAGGCAGAGAAGCAGCTCCTGAAAGGCTCTGCTGATTTTCTGGGTCTGTCGCATTACACCTCCCGCCTCATCAGCAACGCCCCACAAAACACCTGCATCCCTAGCTATGATACCATTGGAGGCTTCTCCCAACACGTGAACCATGTGTGGCCCCAGACCTCATCCTCTTGGATTCGTGTGGTGCCCTGGGGGATAAGGAGGCTGTTGCAGTTTGTATCCCTGGAATACACAAGAGGAAAAGTTCCAATATACCTTGCCGGGAATGGCATGCCCATAGGGGAAAGTGAAAATCTCTTTGATGATTCCTTAAGAGTAGACTACTTCAATCAATATATCAATGAGGTGCTCAAGGCTATCAAGGAAGACTCTGTGGATGTTCGTTCCTACATTGCTCGTTCCCTCATTGATGGCTTCGAAGGCCCTTCTGGTTACAGCCAGCGGTTTGGCCTGCACCACGTCAACTTCAGCGACAGCAGCAAGTCAAGGACTCCCAGGAAATCTGCCTACTTTTTCACTAGCATCATAGAAAAGAACGGTTTCCTCACCAAGGGGGCAAAAAGACTGCTACCACCTAATACAGTAAACCTCCCCTCCAAAGTCAGAGCCTTCACTTTTCCATCTGAGGTGCCCTCCAAGGCTAAAGTCGTTTGGGAAAAGTTCTCCAGCCAACCCAAGTTCGAAAGAGATTTGTTCTACCACGGGACGTTTCGGGATGACTTTCTGTGGGGCGTGTCCTCTTCCGCTTATCAGATTGAAGGCGCGTGGGATGCCGATGGCAAAGGCCCCAGCATCTGGGATAACTTTACCCACACACCAGGGAGCAATGTGAAAGACAATGCCACTGGAGACATCGCCTGTGACAGCTATCACCAGCTGGATGCCGATCTGAATATGCTCCGAGCTTTGAAGGTGAAGGCCTACCGCTTCTCTATCTCCTGGTCTCGGATTTTCCCAACTGGGAGAAACAGCTCTATCAACAGTCATGGGGTTGATTATTACAACAGGCTGATCAATGGCTTGGTGGCAAGCAACATCTTTCCCATGGTGACATTGTTCCATTGGGACCTGCCCCAGGCCCTCCAGGATATCGGAGGCTGGGAGAATCCTGCCTTGATTGACTTGTTTGACAGCTACGCAGACTTTTGTTTCCAGACCTTTGGTGATAGAGTCAAGTTTTGGATGACTTTTAATGAGCCCATGTACCTGGCATGGCTAGGTTATGGCTCAGGGGAATTTCCCCCAGGGGTGAAGGACCCAGGCTGGGCACCATATAGGATAGCCCACGCCGTCATCAAAGCCCATGCCAGAGTCTATCACACGTACGATGAGAAATACAGGCAGGAGCAGAAGGGGGTCATCTCGCTGAGCCTCAGTACACACTGGGCAGAGCCCAAGTCACCAGGGGTCCCCAGAGATGTGGAAGCCGCTGACCGAATGCTGCAGTTCTCCCTGGGCTGGTTTGCTCACCCCATTTTTAGAAACGGAGACTATCCTGACACCATGAAGTGGAAAGTGGGGAACAGGAGTGAACTGCAGCACTTAGCCACCTCCCGCCTGCCAAGCTTCACTGAGGAAGAGAAGAGGTTCATCAGGGCGACGGCCGACGTCTTCTGCCTCAACACGTACTACTCCAGAATCGTGCAGCACAAAACACCCAGGCTAAACCCACCCTCCTACGAAGACGACCAGGAGATGGCTGAGGAGGAGGACCCTTCGTGGCCTTCCACGGCAATGAACAGAGCTGCGCCCTGGGGGACGCGAAGGCTGCTGAACTGGATCAAGGAAGAGTATGGTGACATCCCCATTTACATCACCGAAAACGGAGTGGGGCTGACCAATCCGAACACGGAGGATACTGATAGGATATTTTACCACAAAACCTACATCAATGAGGCTTTGAAAGCCTACAGGCTCGATGGTATAGACCTTCGAGGGTATGTCGCCTGGTCTCTGATGGACAACTTTGAGTGGCTAAATGGCTACACGGTCAAGTTTGGACTGTACCATGTTGATTTCAACAACACGAACAGGCCTCGCACAGCAAGAGCCTCCGCCAGGTACTACACAGAGGTCATTACCAACAACGGCATGCCACTGGCCAGGGAGGATGAGTTTCTGTACGGACGGTTTCCTGAGGGCTTCATCTGGAGTGCAGCTTCTGCTGCATATCAGATTGAAGGTGCGTGGAGAGCAGATGGCAAAGGACTCAGCATTTGGGACACGTTTTCTCACACACCACTGAGGGTTGAGAACGATGCCATTGGAGACGTGGCCTGTGACAGTTATCACAAGATTGCTGAGGATCTGGTCACCCTGCAGAACCTGGGCGTGTCCCACTACCGTTTTTCCATCTCCTGGTCTCGCATCCTCCCTGATGGAACCACCAGGTACATCAATGAAGCGGGCCTGAACTACTACGTGAGGCTCATCGATACACTGCTGGCCGCCAGCATCCAGCCCCAGGTGACCATTTACCACTGGGACCTACCACAGACGCTCCAAGATGTAGGAGGCTGGGAGAATGAGACCATCGTGCAGCGGTTTAAGGAGTATGCAGATGTGCTCTTCCAGAGGCTGGGAGACAAGGTGAAGTTTTGGATCACGCTGAATGAGCCCTTTGTCATTGCTTACCAGGGCTATGGCTACGGAACAGCAGCTCCAGGAGTCTCCAATAGGCCTGGCACTGCCCCCTACATTGTTGGCCACAATCTAATAAAGGCTCATGCTGAGGCCTGGCATCTGTACAACGATGTGTACCGCGCCAGTCAAGGTGGCGTGATTTCCATCACCATCAGCAGTGACTGGGCTGAACCCAGAGATCCCTCTAACCAGGAGGATGTGGAGGCAGCCAGGAGATATGTTCAGTTCATGGGAGGCTGGTTTGCACATCCTATTTTCAAGAATGGAGATTACAATGAGGTGATGAAGACGCGGATCCGTGACAGGAGCTTGGCTGCAGGCCTCAACAAGTCTCGGCTGCCAGAATTTACAGAGAGTGAGAAGAGGAGGATCAACGGCACCTATGACTTTTTTGGGTTCAATCACTACACCACTGTCCTCGCCTACAACCTCAACTATGCCACTGCCATCTCTTCTTTTGATGCAGACAGAGGAGTTGCTTCCATCGCAGATCGCTCGTGGCCAGACTCTGGCTCCTTCTGGCTGAAGATGACGCCTTTTGGCTTCAGGAGGATCCTGAACTGGTTAAAGGAGGAATACAATGACCCTCCAATTTATGTCACAGAGAATGGAGTGTCCCAGCGGGAAGAAACAGACCTCAATGACACTGCAAGGATCTACTACCTTCGGACTTACATCAATGAGGCCCTCAAAGCTGTGCAGGACAAGGTGGACCTTCGAGGATACACAGTTTGGAGTGCGATGGACAATTTTGAGTGGGCCACAGGCTTTTCAGAGAGATTTGGTCTGCATTTTGTGAACTACAGTGACCCTTCTCTGCCAAGGATCCCCAAAGCATCAGCGAAGTTCTACGCCTCTGTGGTCCGATGCAATGGCTTCCCTGACCCCGCTACAGGGCCTCACGCTTGTCTCCACCAGCCAGATGCTGGACCCACCATCAGCCCCGTGAGACAGGAGGAGGTGCAGTTCCTGGGGCTAATGCTCGGCACCACAGAAGCACAGACAGCTTTGTACGTTCTCTTTTCTCTTGTGCTTCTTGGAGTCTGTGGCTTGGCATTTCTGTCATACAAGTACTGCAAGCGCTCTAAGCAAGGGAAAACACAACGAAGCCAACAGGAATTGAGCCCGGTGTCTTCATTCTGATGAGTTACCACCTCAAGTTCTATGAAGCAGGCCTAGTTTCTTCATCTATGTTTACCGGCCACCAAACACCTTAGGGTCTTAGACTCTGCTGATACTGGACTTCTCCATAAAGTCCTGCTGCACCGTTAGAGATGACTTTAATCTTGAATGATTTCGACTTGCTGAGTAAAATGGAAATATCTCCATCTTGCTCCAGTATCAGAGTTCATTTGGGCATTTGAGAAGCAAGTAGCTCTTGCGGAAACGTGTAGATACTGGTCTAGTGGGTCTGTGAACCACTTAATTGAACTTAACAGGGCTGTTTTAAGTTTCAGAGTTGTTAAGGGTTGTTAAGGGAGCAAAAACCGTAAAAATCCTTCCTATAAGAAGAAATCAACTCCATTGCATAGACTGCAATATCATCTCCTGCCCTTCTGCAAGCTCTCCCTAGCTTCACATCTTGTGTTTTCCAGAAAATAAAAACAGCAGACTGTC\n",
      "NM_002299.4 Homo sapiens lactase (LCT), mRNA\n"
     ]
    }
   ],
   "source": [
    "# Las secuencia es un objeto especial de tipo Seq\n",
    "#con la funcion seq podemos guardar la secuencia por separado\n",
    "# https://biopython.org/wiki/Seq\n",
    "lactase_sequence = lactase[0].seq #para quedarnos solo con la secuencia y\n",
    "                                  #obviar la descripcion y nombre    \n",
    "print(lactase_sequence)\n",
    "#si sequences tuviera mas \n",
    "#de una sequencia podríamos guardarlas por separado haciendo sequences[1].seq, \n",
    "#sequences[2].seq, sequences[3].seq..."
   ]
  },
  {
   "cell_type": "code",
   "execution_count": 16,
   "metadata": {},
   "outputs": [
    {
     "name": "stdout",
     "output_type": "stream",
     "text": [
      "NM_002299.4 Homo sapiens lactase (LCT), mRNA\n"
     ]
    }
   ],
   "source": [
    "#Lo mismo con su descripción.\n",
    "desc = lactase[0].description\n",
    "print(desc)"
   ]
  },
  {
   "cell_type": "code",
   "execution_count": 15,
   "metadata": {},
   "outputs": [
    {
     "name": "stdout",
     "output_type": "stream",
     "text": [
      "GACAGTCTGCTGTTTTTATTTTCTGGAAAACACAAGATGTGAAGCTAGGGAGAGCTTGCAGAAGGGCAGGAGATGATATTGCAGTCTATGCAATGGAGTTGATTTCTTCTTATAGGAAGGATTTTTACGGTTTTTGCTCCCTTAACAACCCTTAACAACTCTGAAACTTAAAACAGCCCTGTTAAGTTCAATTAAGTGGTTCACAGACCCACTAGACCAGTATCTACACGTTTCCGCAAGAGCTACTTGCTTCTCAAATGCCCAAATGAACTCTGATACTGGAGCAAGATGGAGATATTTCCATTTTACTCAGCAAGTCGAAATCATTCAAGATTAAAGTCATCTCTAACGGTGCAGCAGGACTTTATGGAGAAGTCCAGTATCAGCAGAGTCTAAGACCCTAAGGTGTTTGGTGGCCGGTAAACATAGATGAAGAAACTAGGCCTGCTTCATAGAACTTGAGGTGGTAACTCATCAGAATGAAGACACCGGGCTCAATTCCTGTTGGCTTCGTTGTGTTTTCCCTTGCTTAGAGCGCTTGCAGTACTTGTATGACAGAAATGCCAAGCCACAGACTCCAAGAAGCACAAGAGAAAAGAGAACGTACAAAGCTGTCTGTGCTTCTGTGGTGCCGAGCATTAGCCCCAGGAACTGCACCTCCTCCTGTCTCACGGGGCTGATGGTGGGTCCAGCATCTGGCTGGTGGAGACAAGCGTGAGGCCCTGTAGCGGGGTCAGGGAAGCCATTGCATCGGACCACAGAGGCGTAGAACTTCGCTGATGCTTTGGGGATCCTTGGCAGAGAAGGGTCACTGTAGTTCACAAAATGCAGACCAAATCTCTCTGAAAAGCCTGTGGCCCACTCAAAATTGTCCATCGCACTCCAAACTGTGTATCCTCGAAGGTCCACCTTGTCCTGCACAGCTTTGAGGGCCTCATTGATGTAAGTCCGAAGGTAGTAGATCCTTGCAGTGTCATTGAGGTCTGTTTCTTCCCGCTGGGACACTCCATTCTCTGTGACATAAATTGGAGGGTCATTGTATTCCTCCTTTAACCAGTTCAGGATCCTCCTGAAGCCAAAAGGCGTCATCTTCAGCCAGAAGGAGCCAGAGTCTGGCCACGAGCGATCTGCGATGGAAGCAACTCCTCTGTCTGCATCAAAAGAAGAGATGGCAGTGGCATAGTTGAGGTTGTAGGCGAGGACAGTGGTGTAGTGATTGAACCCAAAAAAGTCATAGGTGCCGTTGATCCTCCTCTTCTCACTCTCTGTAAATTCTGGCAGCCGAGACTTGTTGAGGCCTGCAGCCAAGCTCCTGTCACGGATCCGCGTCTTCATCACCTCATTGTAATCTCCATTCTTGAAAATAGGATGTGCAAACCAGCCTCCCATGAACTGAACATATCTCCTGGCTGCCTCCACATCCTCCTGGTTAGAGGGATCTCTGGGTTCAGCCCAGTCACTGCTGATGGTGATGGAAATCACGCCACCTTGACTGGCGCGGTACACATCGTTGTACAGATGCCAGGCCTCAGCATGAGCCTTTATTAGATTGTGGCCAACAATGTAGGGGGCAGTGCCAGGCCTATTGGAGACTCCTGGAGCTGCTGTTCCGTAGCCATAGCCCTGGTAAGCAATGACAAAGGGCTCATTCAGCGTGATCCAAAACTTCACCTTGTCTCCCAGCCTCTGGAAGAGCACATCTGCATACTCCTTAAACCGCTGCACGATGGTCTCATTCTCCCAGCCTCCTACATCTTGGAGCGTCTGTGGTAGGTCCCAGTGGTAAATGGTCACCTGGGGCTGGATGCTGGCGGCCAGCAGTGTATCGATGAGCCTCACGTAGTAGTTCAGGCCCGCTTCATTGATGTACCTGGTGGTTCCATCAGGGAGGATGCGAGACCAGGAGATGGAAAAACGGTAGTGGGACACGCCCAGGTTCTGCAGGGTGACCAGATCCTCAGCAATCTTGTGATAACTGTCACAGGCCACGTCTCCAATGGCATCGTTCTCAACCCTCAGTGGTGTGTGAGAAAACGTGTCCCAAATGCTGAGTCCTTTGCCATCTGCTCTCCACGCACCTTCAATCTGATATGCAGCAGAAGCTGCACTCCAGATGAAGCCCTCAGGAAACCGTCCGTACAGAAACTCATCCTCCCTGGCCAGTGGCATGCCGTTGTTGGTAATGACCTCTGTGTAGTACCTGGCGGAGGCTCTTGCTGTGCGAGGCCTGTTCGTGTTGTTGAAATCAACATGGTACAGTCCAAACTTGACCGTGTAGCCATTTAGCCACTCAAAGTTGTCCATCAGAGACCAGGCGACATACCCTCGAAGGTCTATACCATCGAGCCTGTAGGCTTTCAAAGCCTCATTGATGTAGGTTTTGTGGTAAAATATCCTATCAGTATCCTCCGTGTTCGGATTGGTCAGCCCCACTCCGTTTTCGGTGATGTAAATGGGGATGTCACCATACTCTTCCTTGATCCAGTTCAGCAGCCTTCGCGTCCCCCAGGGCGCAGCTCTGTTCATTGCCGTGGAAGGCCACGAAGGGTCCTCCTCCTCAGCCATCTCCTGGTCGTCTTCGTAGGAGGGTGGGTTTAGCCTGGGTGTTTTGTGCTGCACGATTCTGGAGTAGTACGTGTTGAGGCAGAAGACGTCGGCCGTCGCCCTGATGAACCTCTTCTCTTCCTCAGTGAAGCTTGGCAGGCGGGAGGTGGCTAAGTGCTGCAGTTCACTCCTGTTCCCCACTTTCCACTTCATGGTGTCAGGATAGTCTCCGTTTCTAAAAATGGGGTGAGCAAACCAGCCCAGGGAGAACTGCAGCATTCGGTCAGCGGCTTCCACATCTCTGGGGACCCCTGGTGACTTGGGCTCTGCCCAGTGTGTACTGAGGCTCAGCGAGATGACCCCCTTCTGCTCCTGCCTGTATTTCTCATCGTACGTGTGATAGACTCTGGCATGGGCTTTGATGACGGCGTGGGCTATCCTATATGGTGCCCAGCCTGGGTCCTTCACCCCTGGGGGAAATTCCCCTGAGCCATAACCTAGCCATGCCAGGTACATGGGCTCATTAAAAGTCATCCAAAACTTGACTCTATCACCAAAGGTCTGGAAACAAAAGTCTGCGTAGCTGTCAAACAAGTCAATCAAGGCAGGATTCTCCCAGCCTCCGATATCCTGGAGGGCCTGGGGCAGGTCCCAATGGAACAATGTCACCATGGGAAAGATGTTGCTTGCCACCAAGCCATTGATCAGCCTGTTGTAATAATCAACCCCATGACTGTTGATAGAGCTGTTTCTCCCAGTTGGGAAAATCCGAGACCAGGAGATAGAGAAGCGGTAGGCCTTCACCTTCAAAGCTCGGAGCATATTCAGATCGGCATCCAGCTGGTGATAGCTGTCACAGGCGATGTCTCCAGTGGCATTGTCTTTCACATTGCTCCCTGGTGTGTGGGTAAAGTTATCCCAGATGCTGGGGCCTTTGCCATCGGCATCCCACGCGCCTTCAATCTGATAAGCGGAAGAGGACACGCCCCACAGAAAGTCATCCCGAAACGTCCCGTGGTAGAACAAATCTCTTTCGAACTTGGGTTGGCTGGAGAACTTTTCCCAAACGACTTTAGCCTTGGAGGGCACCTCAGATGGAAAAGTGAAGGCTCTGACTTTGGAGGGGAGGTTTACTGTATTAGGTGGTAGCAGTCTTTTTGCCCCCTTGGTGAGGAAACCGTTCTTTTCTATGATGCTAGTGAAAAAGTAGGCAGATTTCCTGGGAGTCCTTGACTTGCTGCTGTCGCTGAAGTTGACGTGGTGCAGGCCAAACCGCTGGCTGTAACCAGAAGGGCCTTCGAAGCCATCAATGAGGGAACGAGCAATGTAGGAACGAACATCCACAGAGTCTTCCTTGATAGCCTTGAGCACCTCATTGATATATTGATTGAAGTAGTCTACTCTTAAGGAATCATCAAAGAGATTTTCACTTTCCCCTATGGGCATGCCATTCCCGGCAAGGTATATTGGAACTTTTCCTCTTGTGTATTCCAGGGATACAAACTGCAACAGCCTCCTTATCCCCCAGGGCACCACACGAATCCAAGAGGATGAGGTCTGGGGCCACACATGGTTCACGTGTTGGGAGAAGCCTCCAATGGTATCATAGCTAGGGATGCAGGTGTTTTGTGGGGCGTTGCTGATGAGGCGGGAGGTGTAATGCGACAGACCCAGAAAATCAGCAGAGCCTTTCAGGAGCTGCTTCTCTGCCTCTGTGAACTCGGGGAGTTGAGCCACAGGATGGGAGCACTGTCTGTTCATCTGTTGGATCTGGGTCCTCAGGGTGGCTGGGTAGTCTCCATCCACAAAGACGGGGTGTGCAAACCAGCCCAGCATGAAGTGCAAGAAGCGCTCAGAGGCTCTCAGGTCCTCAGGCCTCTCTGGAGACAGGGGTTCTGCCCAGTCTGAGTTCAGCACAATGCCCACGTGCCCCTGCTGCTGTGGGCGATGATGGCTGTTGTAGTGGTGCCAAGTTCTGGCATGAGCCTTGAGGACCAAGTGAGCCACCTTAAAAGAGGCCACTCCTGGGTCAGAGATGCCGGGAGGGTGCTGGCCGGTGCCATAGCCTGCGTAGCTCATCACCCACGGCTCATGGAAGGTCACCCACAGCTTCACACGGTCCCCAAATGTGGAGAAGCAGAAGGCCGCATAGTCCAGGAAGGCATCCACCACGCTCTCATTCTGCCATCCACCATGATCCTGCAGGGCCTGAGGCAGGTCCCAGTGGAACAGCGTGGCCATGGGCTCGATGCCCGCATCCTGTAGCCTGTCAATCAGCTTGTTGTAGTAGGCAACGCCTGGGAGGCTGGGGCTGCTCCCGTGCCCCATGGGGAAGATCCGGGACCAGGAGATGGAGAACTTGTACACCTGAGCCCGGAGGCCGCAAAGCAGGGCGACGTCAGAGGCTACCTTGTGGTAACTGTCGCTGGCCACCTCCAGCGTCGCTTGGCCCTCAGTGGTGTTCAGGGGCCTGCGTGGATCCCAGATGCTCACCCCTCTCCCACCCTCGGCCCAGCCTCCTTCCACGTTAAAGGCTCCTGTGGAGGCACCCCAGAGGAAGCCTTCAGGGAAAGTATCCTGCAGGAAGGCATCCCTTTCCGCCCTGGACTGATTGGCAAATGCTTCCCAGATTCTCTGATAGGCAGAGGCAGGAGAGGAGTCCGTGGTCTCGTGGTCCTGCTGCTGGTCAGGCTGAAGGGCCAGGCTGCCAGTCAGAGAACAAGACATGCTTTTCTTGGAACTTGATGAACAACTCAGAAACTCATTAATATCAAACCCAATGGTGAGCACTTGGTCTTTATTTATGGCTTCAAAAAGGCTGAAGAGCAGACTGGCTGGGTTCTTCATGGTGGAGGGGCAGTCTGGGAGTTTTAGGTTGAAGATGAAAACTTTCACTTTTGGCTCAATGGTCTGCAATTTACTCAGCTTCTGCCGCAGACTTGCCTCATTTTGGCATTCATAAGACAAATCAAGAGAGAGGAAATCGACCGTGTCCTGGGCAAGCGCAGATATGGGTGGTTCTAGCAGGAGCTCCGGGATATCTTCAGCTCGCAGGACAACAGAGAGTTTTCCGCCCTGAAAAGCATAGCTTTCGTGGTAAATCTCATAGGCTTTTCTGTGGGCATCACTGAGGGTCTGGAGTTGTGACGCTCTTGATTCCTGGTGGGGAAGCTCCTTGATCACTTCCTCCAAGTCACTGAAGGTGAACCAGATCCCAACTAGGTCCCCGAAGGAGTGGAAGGCGAATGTGGCATAGTCGGCGAAGAGGTCAGCAAAGGCTTCGGTTCTCCGGAGGGTGCTGGCAGGGAGGGTCTGGTGGTGCAGGATGACCATGGGCTGAAGCCGTGCAGTCTTGAGGGCCTTGAGGAGTCGCCGGTAGCACTGCACTGTTTTCTCGTCTGGATTCTGGGTGCTTCCTGCTGGGAGGAGCTGTGCCCATGACAGAAATACCTTATAATGGGTGATCTGACTGGCATGGAGACTGCTGAAGTATTCTGGCAGGAAAGTGGGCAGTGGCTGGTGACAAACATACATGTCTTTGTCCCCTGCTACAAAGTTAGAACTCTGGTCTCCCAGGAGACCACTCAGGTTGTGCAGCAAGTCATTGGTTAGAGGACCAGCGGTGGAAATGAAATTTCTATCAGACTCCCAGTCTGACCCCCAGCATGAAAAACTTAGCAGGGCAATAAAGACTACATGCCAAGACAGCTCCATTTTCTAGGAACTGTT\n"
     ]
    }
   ],
   "source": [
    "# Los objetos de clase Seq tienen diversos metodos (funciones asociados a \n",
    "#esa clase), por ejemplo:\n",
    "# Para obtener la hebra inversa complementaria se puede usar el \n",
    "#metodo reverse_complement()\n",
    "print(lactase_sequence.reverse_complement())"
   ]
  },
  {
   "cell_type": "code",
   "execution_count": 16,
   "metadata": {},
   "outputs": [
    {
     "name": "stdout",
     "output_type": "stream",
     "text": [
      "6273\n"
     ]
    }
   ],
   "source": [
    "#Para la longitud de la secuencia no hay ningun método especial\n",
    "#porque funciona la funcion len como con otras clases de objetos\n",
    "print(len(lactase_sequence))"
   ]
  },
  {
   "cell_type": "code",
   "execution_count": 17,
   "metadata": {},
   "outputs": [
    {
     "data": {
      "text/plain": [
       "Seq('AAC')"
      ]
     },
     "execution_count": 17,
     "metadata": {},
     "output_type": "execute_result"
    }
   ],
   "source": [
    "# También funcionan los corchetes para acceder a partes de la secuencia como\n",
    "#hacíamos con cadenas de carácteres.\n",
    "lactase_sequence[0:3]"
   ]
  },
  {
   "cell_type": "markdown",
   "metadata": {},
   "source": [
    "## Ejercicio 1.\n",
    "\n",
    "Ya sabemos como tratar a los objetos de clase seq, ahora vamos a entrenar definiendo una funcion que calcule el modelo multinomial de una secuencia.\n",
    "\n",
    "Recordad que este modelo caracterizaba los genomas por su contenido en las distintas bases. Crea una funcion que tenga como dato de entrada una secuencia y como dato de salida un diccionario con las bases como clave y su contenido en la secuencia como valor. \n",
    "Pista: usa asignaciones aumentadas."
   ]
  },
  {
   "cell_type": "code",
   "execution_count": 19,
   "metadata": {},
   "outputs": [],
   "source": [
    "# Cálculo del modelo multinomial\n",
    "\n",
    "\n",
    "\n",
    "\n",
    "\n",
    "#get_multinomial_model(lactase_sequence)\n",
    "#{'A': 0.24501833253626654,\n",
    "# 'C': 0.26988681651522395,\n",
    "# 'G': 0.25251076040172166,\n",
    "# 'T': 0.23258409054678783}"
   ]
  },
  {
   "cell_type": "code",
   "execution_count": 21,
   "metadata": {},
   "outputs": [
    {
     "data": {
      "text/plain": [
       "52.239757691694564"
      ]
     },
     "execution_count": 21,
     "metadata": {},
     "output_type": "execute_result"
    }
   ],
   "source": [
    "#De todas formas, hay un paquete con una funcion para calcular el contenido en GC\n",
    "#Importamos GC de Bio.SeqUtils, esto es como hacer un library\n",
    "from Bio.SeqUtils import GC\n",
    "GC(lactase_sequence)"
   ]
  },
  {
   "cell_type": "markdown",
   "metadata": {},
   "source": [
    "## Ejercicio 2:\n",
    "\n",
    "* Descargar de la NCBI mediante Biopython el genoma del lamda fago (NC_001416).\n",
    "* Salva el genoma en un fichero FASTA\n",
    "* ¿Cual es la longitud de la secuencia?\n",
    "* ¿Cual es su modelo multinomial?\n",
    "* ¿Cual es su contenido en GC?\n"
   ]
  },
  {
   "cell_type": "code",
   "execution_count": 20,
   "metadata": {},
   "outputs": [],
   "source": [
    "def download_sequence(accesion_number):\n",
    "    hdl = Entrez.efetch(db='nucleotide', id=[accesion_number], rettype='fasta')\n",
    "    recs = list(SeqIO.parse(hdl, 'fasta'))\n",
    "    return recs"
   ]
  },
  {
   "cell_type": "code",
   "execution_count": 21,
   "metadata": {},
   "outputs": [
    {
     "data": {
      "text/plain": [
       "[SeqRecord(seq=Seq('GGGCGGCGACCTCGCGGGTTTTCGCTATTTATGAAAATTTTCCGGTTTAAGGCG...ACG'), id='NC_001416.1', name='NC_001416.1', description='NC_001416.1 Enterobacteria phage lambda, complete genome', dbxrefs=[])]"
      ]
     },
     "execution_count": 21,
     "metadata": {},
     "output_type": "execute_result"
    }
   ],
   "source": [
    "lambda_phage = download_sequence('NC_001416')\n",
    "lambda_phage"
   ]
  },
  {
   "cell_type": "code",
   "execution_count": 22,
   "metadata": {},
   "outputs": [
    {
     "data": {
      "text/plain": [
       "1"
      ]
     },
     "execution_count": 22,
     "metadata": {},
     "output_type": "execute_result"
    }
   ],
   "source": [
    "SeqIO.write(lambda_phage, \"lactase.fasta\", \"fasta\")"
   ]
  },
  {
   "cell_type": "code",
   "execution_count": 23,
   "metadata": {},
   "outputs": [
    {
     "data": {
      "text/plain": [
       "48502"
      ]
     },
     "execution_count": 23,
     "metadata": {},
     "output_type": "execute_result"
    }
   ],
   "source": [
    "lambda_phage_seq = lambda_phage[0].seq\n",
    "len(lambda_phage_seq)"
   ]
  },
  {
   "cell_type": "code",
   "execution_count": 24,
   "metadata": {},
   "outputs": [
    {
     "data": {
      "text/plain": [
       "{'A': 0.2542987918023999,\n",
       " 'C': 0.23425838109768668,\n",
       " 'G': 0.2643189971547565,\n",
       " 'T': 0.24712382994515691}"
      ]
     },
     "execution_count": 24,
     "metadata": {},
     "output_type": "execute_result"
    }
   ],
   "source": [
    "get_multinomial_model(lambda_phage_seq)"
   ]
  },
  {
   "cell_type": "code",
   "execution_count": 16,
   "metadata": {},
   "outputs": [
    {
     "data": {
      "text/plain": [
       "49.85773782524432"
      ]
     },
     "execution_count": 16,
     "metadata": {},
     "output_type": "execute_result"
    }
   ],
   "source": [
    "GC(lambda_phage_seq)"
   ]
  },
  {
   "cell_type": "markdown",
   "metadata": {},
   "source": [
    "## Ejercicio 2:\n",
    "\n",
    "* Descargar de la NCBI mediante Biopython el genoma del Haemophilus influenzae (NC_000907).\n",
    "* Salvar el genoma en un fichero FASTA\n",
    "* ¿Cual es la longitud de la secuencia?\n",
    "* ¿Cual es su modelo multinomial?\n",
    "* ¿Cual es su contenido en GC?"
   ]
  },
  {
   "cell_type": "code",
   "execution_count": 25,
   "metadata": {},
   "outputs": [
    {
     "data": {
      "text/plain": [
       "[SeqRecord(seq=Seq('TATGGCAATTAAAATTGGTATCAATGGTTTTGGTCGTATCGGCCGTATCGTATT...TCT'), id='NC_000907.1', name='NC_000907.1', description='NC_000907.1 Haemophilus influenzae Rd KW20, complete sequence', dbxrefs=[])]"
      ]
     },
     "execution_count": 25,
     "metadata": {},
     "output_type": "execute_result"
    }
   ],
   "source": [
    "download_sequence('NC_000907')"
   ]
  },
  {
   "cell_type": "markdown",
   "metadata": {},
   "source": [
    "## Ejercicio 3:\n",
    "\n",
    "* Descargar de la NCBI mediante Biopython el genoma del SARS_Cov_2 (NC_045512).\n",
    "* Salvar el genoma en un fichero FASTA\n",
    "* ¿Cual es la longitud de la secuencia?\n",
    "* ¿Cual es su modelo multinomial?\n",
    "* ¿Cual es su contenido en GC?"
   ]
  },
  {
   "cell_type": "markdown",
   "metadata": {},
   "source": [
    "## Ejercicio 4:\n",
    "\n",
    "* Implementa una función para calcular el contenido local en GC de una secuencia (revisar apuntes de IAB)\n",
    "* Aplica la función al genoma del lambda fago con una longitud de ventana de 10000 y un desplazamiento de 1000"
   ]
  },
  {
   "cell_type": "code",
   "execution_count": 26,
   "metadata": {},
   "outputs": [],
   "source": [
    "# este es el pseudocodigo para R, tenemos que adaptarlo\n",
    "#Entrada: Un vector que representa una secuencia de DNA (dna.sequence), la longitud de la\n",
    "# ventana(window.length) y el desplazamiento (offset)\n",
    "#Paso 1: Inicialización de variables antes del bucle:\n",
    "# lowest ← 1\n",
    "# highest ← window.length\n",
    "# local.GC ← numeric(0)\n",
    "# positions ← numeric(0)\n",
    "# i ← 1\n",
    "#Paso 2: Mientras highest <= length(dna.sequence)\n",
    "# Guardar valor local: local.GC[i] ← GC(dna.sequence[lowest:highest])\n",
    "# Guardar posición actual: positions[i] ← lowest\n",
    "# Actualizar ventana: lowest ← lowest + offset\n",
    "# highest ← highest + offset\n",
    "# i ← i + 1\n",
    "#Paso 3: Devolver result una lista con local.GC y positions.\n",
    "\n",
    "\n",
    "def get_local_GC(seq, window_length, offset):\n",
    "    lowest = 0\n",
    "    highest = window_length\n",
    "    local_GC = []\n",
    "    while highest < len(seq):\n",
    "        local_GC.append(  (GC(seq[lowest:highest]),lowest)     )\n",
    "        lowest += offset\n",
    "        highest += offset\n",
    "    return local_GC\n",
    "\n",
    "def get_local_GC_bis(seq, window_length, offset):\n",
    "    lowest = 0\n",
    "    highest = window_length\n",
    "    local_GC = {}\n",
    "    while highest < len(seq):\n",
    "        local_GC[lowest] = GC(seq[lowest:highest])\n",
    "        lowest += offset\n",
    "        highest += offset\n",
    "    return local_GC"
   ]
  },
  {
   "cell_type": "code",
   "execution_count": 27,
   "metadata": {},
   "outputs": [
    {
     "data": {
      "text/plain": [
       "[(56.46, 0),\n",
       " (57.1, 1000),\n",
       " (57.49, 2000),\n",
       " (57.88, 3000),\n",
       " (57.78, 4000),\n",
       " (57.59, 5000),\n",
       " (57.27, 6000),\n",
       " (57.61, 7000),\n",
       " (57.72, 8000),\n",
       " (57.53, 9000),\n",
       " (57.31, 10000),\n",
       " (57.4, 11000),\n",
       " (56.73, 12000),\n",
       " (55.07, 13000),\n",
       " (52.41, 14000),\n",
       " (50.62, 15000),\n",
       " (48.64, 16000),\n",
       " (46.31, 17000),\n",
       " (44.39, 18000),\n",
       " (43.51, 19000),\n",
       " (42.35, 20000),\n",
       " (41.2, 21000),\n",
       " (41.07, 22000),\n",
       " (41.95, 23000),\n",
       " (43.16, 24000),\n",
       " (43.13, 25000),\n",
       " (44.05, 26000),\n",
       " (44.64, 27000),\n",
       " (45.04, 28000),\n",
       " (45.08, 29000),\n",
       " (45.96, 30000),\n",
       " (46.22, 31000),\n",
       " (45.95, 32000),\n",
       " (45.79, 33000),\n",
       " (46.12, 34000),\n",
       " (47.07, 35000),\n",
       " (47.44, 36000),\n",
       " (47.94, 37000),\n",
       " (47.32, 38000)]"
      ]
     },
     "execution_count": 27,
     "metadata": {},
     "output_type": "execute_result"
    }
   ],
   "source": [
    "get_local_GC(lambda_phage_seq,10000,1000)"
   ]
  },
  {
   "cell_type": "code",
   "execution_count": 28,
   "metadata": {},
   "outputs": [
    {
     "data": {
      "text/plain": [
       "{0: 56.46,\n",
       " 1000: 57.1,\n",
       " 2000: 57.49,\n",
       " 3000: 57.88,\n",
       " 4000: 57.78,\n",
       " 5000: 57.59,\n",
       " 6000: 57.27,\n",
       " 7000: 57.61,\n",
       " 8000: 57.72,\n",
       " 9000: 57.53,\n",
       " 10000: 57.31,\n",
       " 11000: 57.4,\n",
       " 12000: 56.73,\n",
       " 13000: 55.07,\n",
       " 14000: 52.41,\n",
       " 15000: 50.62,\n",
       " 16000: 48.64,\n",
       " 17000: 46.31,\n",
       " 18000: 44.39,\n",
       " 19000: 43.51,\n",
       " 20000: 42.35,\n",
       " 21000: 41.2,\n",
       " 22000: 41.07,\n",
       " 23000: 41.95,\n",
       " 24000: 43.16,\n",
       " 25000: 43.13,\n",
       " 26000: 44.05,\n",
       " 27000: 44.64,\n",
       " 28000: 45.04,\n",
       " 29000: 45.08,\n",
       " 30000: 45.96,\n",
       " 31000: 46.22,\n",
       " 32000: 45.95,\n",
       " 33000: 45.79,\n",
       " 34000: 46.12,\n",
       " 35000: 47.07,\n",
       " 36000: 47.44,\n",
       " 37000: 47.94,\n",
       " 38000: 47.32}"
      ]
     },
     "execution_count": 28,
     "metadata": {},
     "output_type": "execute_result"
    }
   ],
   "source": [
    "get_local_GC_bis(lambda_phage_seq,10000,1000)"
   ]
  },
  {
   "cell_type": "markdown",
   "metadata": {},
   "source": [
    "## Ejercicio 5:\n",
    "\n",
    "* Implementa una función para calcular el modelo markoviano de una secuencia (revisar apuntes de IAB)\n",
    "* Aplica la función al genoma del lambda fago"
   ]
  },
  {
   "cell_type": "code",
   "execution_count": 65,
   "metadata": {},
   "outputs": [
    {
     "data": {
      "text/plain": [
       "({'A': 0.2542987918023999,\n",
       "  'C': 0.23425838109768668,\n",
       "  'G': 0.2643189971547565,\n",
       "  'T': 0.24712382994515691},\n",
       " {'GG': 1.1488439306358382,\n",
       "  'GC': 1.3059971098265897,\n",
       "  'CG': 1.2275236593059937,\n",
       "  'GA': 1.176300578034682,\n",
       "  'AC': 0.77105184297273,\n",
       "  'CC': 0.9846214511041009,\n",
       "  'CT': 1.0,\n",
       "  'TC': 0.8002989536621824,\n",
       "  'GT': 1.0,\n",
       "  'TT': 1.0,\n",
       "  'TA': 0.648729446935725,\n",
       "  'AT': 1.0,\n",
       "  'TG': 1.1342301943198805,\n",
       "  'AA': 1.1063829787234043,\n",
       "  'AG': 0.818699430626311,\n",
       "  'CA': 1.2681388012618298})"
      ]
     },
     "execution_count": 65,
     "metadata": {},
     "output_type": "execute_result"
    }
   ],
   "source": [
    "\n",
    "\n",
    "# la funcion count2 cuenta la frecuencia absoluta de dimeros de una secuencia\n",
    "def count2(seq):\n",
    "    dimeros = {}\n",
    "    for i in range(0,len(seq)-1):\n",
    "        key = seq[i] + seq[i+1]\n",
    "        if key in dimeros:\n",
    "            dimeros[key] += 1\n",
    "        else:\n",
    "            dimeros[key] = 1\n",
    "    return (dimeros)\n",
    "\n",
    "\n",
    "dimeros = count2(lambda_phage_seq)\n",
    "\n",
    "\n",
    "def get_transition_matrix(dimeros):\n",
    "    alphabet = ['A','C','G','T']\n",
    "    for n0 in alphabet:\n",
    "        suma = 0\n",
    "        for n1 in alphabet:\n",
    "            key = n0 + n1\n",
    "        if key in dimeros:\n",
    "            suma += dimeros[key]\n",
    "        for n1 in alphabet:\n",
    "            key = n0 + n1\n",
    "            if key in dimeros:\n",
    "                dimeros[key] /= suma\n",
    "            else:\n",
    "                dimeros[key] = 0\n",
    "\n",
    "\n",
    "def get_markovian_model(seq):\n",
    "    dimeros = count2(seq)\n",
    "    get_transition_matrix(dimeros)\n",
    "    return get_multinomial_model(seq), dimeros\n",
    "     \n",
    "get_markovian_model(lambda_phage_seq)"
   ]
  }
 ],
 "metadata": {
  "kernelspec": {
   "display_name": "Python 3 (ipykernel)",
   "language": "python",
   "name": "python3"
  },
  "language_info": {
   "codemirror_mode": {
    "name": "ipython",
    "version": 3
   },
   "file_extension": ".py",
   "mimetype": "text/x-python",
   "name": "python",
   "nbconvert_exporter": "python",
   "pygments_lexer": "ipython3",
   "version": "3.9.7"
  }
 },
 "nbformat": 4,
 "nbformat_minor": 4
}
