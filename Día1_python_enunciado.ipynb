{
 "cells": [
  {
   "cell_type": "markdown",
   "id": "25e406e4",
   "metadata": {},
   "source": [
    "# Python básico\n",
    "\n",
    "Ana Belén Romero Losada\n",
    "Departamento de Ciencias de la Computación e Inteligencia Artificial\n",
    "Universidad de Sevila\n",
    "\n",
    "En esta hoja de trabajo vamos a ver lo esencial de Python para poder empezar a practicar con el lenguaje.\n",
    "\n",
    "En el entorno Jupyter se trabaja Python sobre un notebook u hoja de trabajo. Esta hoja de trabajo está formada por una secuencia de cajas, que pueden ser de texto, en las que explicar ideas y conceptos, o de código, en las que definir o evaluar funciones Python.\n"
   ]
  },
  {
   "cell_type": "markdown",
   "id": "6f83aa55",
   "metadata": {},
   "source": [
    "##  Ejercicio 1\n",
    "\n",
    "Crea una función que resuelva una ecuación de segundo grado en jupyter y en R. Compara las diferencias a la hora de realizar operaciones aritméticas y lógicas, declarar variables/objetos y usar las estructuras de control. \n",
    "\n",
    "PISTA: existe una función llamada round() para redondear. Se usa como típicamente se usa en R."
   ]
  },
  {
   "cell_type": "code",
   "execution_count": 2,
   "id": "5a496365",
   "metadata": {},
   "outputs": [],
   "source": [
    "#Crea la funcion llamada calculadora\n",
    "##comprueba si el número que iría dentro de la raiz cuadrada es negativo\n",
    "###Devuelve 0 y un mensaje de error\n",
    "##en el caso que no lo sea, resuelve la ecuacion\n",
    "### imprime por pantalla los siguientes mensajes\n",
    "####\"ambas soluciones son válidas, x puede valer sol1 y sol2\"\n",
    "####\"Solo la solucion 1 es válida, x vale sol1\"\n",
    "####\"Solo la solucion 2 es válida, x vale sol2\"\n",
    "\n"
   ]
  },
  {
   "cell_type": "code",
   "execution_count": 6,
   "id": "12dde7a4",
   "metadata": {},
   "outputs": [
    {
     "name": "stdout",
     "output_type": "stream",
     "text": [
      "Esta ecuación no tiene solución\n"
     ]
    },
    {
     "data": {
      "text/plain": [
       "0"
      ]
     },
     "execution_count": 6,
     "metadata": {},
     "output_type": "execute_result"
    }
   ],
   "source": [
    "calculadora(2,4,7)"
   ]
  },
  {
   "cell_type": "markdown",
   "id": "0bdfc9f1",
   "metadata": {},
   "source": [
    "## Ejercicio 2\n",
    "\n",
    "Traduce este pseudocódigo a código en R y python simultáneamente. \n",
    "\n"
   ]
  },
  {
   "cell_type": "code",
   "execution_count": 2,
   "id": "d22b6179",
   "metadata": {},
   "outputs": [
    {
     "name": "stdout",
     "output_type": "stream",
     "text": [
      "2 3 45\n"
     ]
    }
   ],
   "source": [
    "#Declara una variable llamada x que valga 2\n",
    "#Súmale 2 a x\n",
    "x=2\n",
    "x,y,b=2,3,45\n",
    "print(x,y,b)\n",
    "#x<-2\n"
   ]
  },
  {
   "cell_type": "code",
   "execution_count": 5,
   "id": "ac69cc5a-027d-4f8e-8c5f-18649d840e19",
   "metadata": {},
   "outputs": [],
   "source": [
    "x+=2\n",
    "x-=3"
   ]
  },
  {
   "cell_type": "code",
   "execution_count": 17,
   "id": "c04298d3",
   "metadata": {},
   "outputs": [],
   "source": [
    "#Declara una variable llamada palabra que valga \"hola\"\n",
    "#Cuadrupicla la variable palabra\n"
   ]
  },
  {
   "cell_type": "code",
   "execution_count": 14,
   "id": "435aa2e4-1276-496d-83f9-97fd7d066608",
   "metadata": {},
   "outputs": [
    {
     "data": {
      "text/plain": [
       "'hola hola hola hola '"
      ]
     },
     "execution_count": 14,
     "metadata": {},
     "output_type": "execute_result"
    }
   ],
   "source": [
    "palabra=\"hola \"\n",
    "palabra*=4\n",
    "palabra"
   ]
  },
  {
   "cell_type": "code",
   "execution_count": 20,
   "id": "a9457486",
   "metadata": {},
   "outputs": [
    {
     "data": {
      "text/plain": [
       "9"
      ]
     },
     "execution_count": 20,
     "metadata": {},
     "output_type": "execute_result"
    }
   ],
   "source": [
    "#añade las palabras \"mundo que tal\" a palabra\n",
    "palabra+=\"mundo que tal\"\n",
    "palabra\n",
    "palabra.index(\"mundo\")\n",
    "palabra.upper()\n",
    "palabra.find(\"tal\")\n",
    "palabra.count(\"a\")\n",
    "#encuentra en que posicion está mundo\n",
    "#escribelo en mayuscula y cuenta cuantas \"a\" hay (esto hazlo solo en python)"
   ]
  },
  {
   "cell_type": "code",
   "execution_count": 21,
   "id": "f0d38a9e-1d3a-423d-9ec2-4861ad028296",
   "metadata": {},
   "outputs": [
    {
     "data": {
      "text/plain": [
       "'hola hola hola hola mundo que talmundo que talmundo que talmundo que talmundo que tal'"
      ]
     },
     "execution_count": 21,
     "metadata": {},
     "output_type": "execute_result"
    }
   ],
   "source": [
    "palabra"
   ]
  },
  {
   "cell_type": "code",
   "execution_count": 26,
   "id": "648dc7b6-40bf-4857-a68b-3d30911e8a0f",
   "metadata": {},
   "outputs": [
    {
     "data": {
      "text/plain": [
       "'hola h'"
      ]
     },
     "execution_count": 26,
     "metadata": {},
     "output_type": "execute_result"
    }
   ],
   "source": [
    "palabra[0:6]"
   ]
  },
  {
   "cell_type": "code",
   "execution_count": 25,
   "id": "fff10819-82b8-4f70-ac94-a486e79adc9f",
   "metadata": {},
   "outputs": [
    {
     "data": {
      "text/plain": [
       "'lat euq odnumlat euq odnumlat euq odnumlat euq odnumlat euq odnum aloh aloh aloh aloh'"
      ]
     },
     "execution_count": 25,
     "metadata": {},
     "output_type": "execute_result"
    }
   ],
   "source": [
    "palabra[::-1]"
   ]
  },
  {
   "cell_type": "markdown",
   "id": "3b1d0cd6",
   "metadata": {},
   "source": [
    "## Ejercicio 3\n",
    "\n",
    "Vamos a prácticar con las demás clases de objetos en python."
   ]
  },
  {
   "cell_type": "code",
   "execution_count": 38,
   "id": "0803b6ac",
   "metadata": {},
   "outputs": [
    {
     "ename": "TypeError",
     "evalue": "'tuple' object does not support item assignment",
     "output_type": "error",
     "traceback": [
      "\u001b[1;31m---------------------------------------------------------------------------\u001b[0m",
      "\u001b[1;31mTypeError\u001b[0m                                 Traceback (most recent call last)",
      "Cell \u001b[1;32mIn[38], line 18\u001b[0m\n\u001b[0;32m     16\u001b[0m tupla1\n\u001b[0;32m     17\u001b[0m \u001b[38;5;66;03m#Modifica el valor de la posición 2 en la tupla por la palabra \"hola\"\u001b[39;00m\n\u001b[1;32m---> 18\u001b[0m \u001b[43mtupla1\u001b[49m\u001b[43m[\u001b[49m\u001b[38;5;241;43m2\u001b[39;49m\u001b[43m]\u001b[49m\u001b[38;5;241m=\u001b[39m\u001b[38;5;241m5\u001b[39m\n",
      "\u001b[1;31mTypeError\u001b[0m: 'tuple' object does not support item assignment"
     ]
    }
   ],
   "source": [
    "#############tuplas\n",
    "#Crea una tupla con tres elementos, el elemento más parecido a un vector\n",
    "tupla1=(1,4,5,\"hola\")\n",
    "tupla2=1,2,3,4\n",
    "#Crea una tupla con un elemento\n",
    "tupla_uno=1,\n",
    "#Crea una tupla vacía\n",
    "tupla_vacia=()\n",
    "#recorre la tupla al revés\n",
    "tupla1[::-1]\n",
    "tupla1[3]\n",
    "#está el valor 6 en la tupla?\n",
    "1 in tupla1\n",
    "#Concatena, es decir, añade al final de la tupla: el valor 10\n",
    "tupla1+=(\"hola\",)\n",
    "tupla1\n",
    "#Modifica el valor de la posición 2 en la tupla por la palabra \"hola\"\n",
    "tupla1[2]=5"
   ]
  },
  {
   "cell_type": "code",
   "execution_count": 62,
   "id": "c776f3fb",
   "metadata": {},
   "outputs": [
    {
     "data": {
      "text/plain": [
       "'hola y mundo y hola y tal y hola'"
      ]
     },
     "execution_count": 62,
     "metadata": {},
     "output_type": "execute_result"
    }
   ],
   "source": [
    "#############listas\n",
    "#Crea una lista que dentro tenga palabras\n",
    "lista1= [\"hola\", \"mundo\", \"que\", \"tal\"]\n",
    "#Modifica el valor de la posición 2 en la lista por la palabra \"hola\"\n",
    "lista1[2]=\"hola\"\n",
    "lista1\n",
    "#Concatena el valor 122 con tu lista\n",
    "\n",
    "#Concatena el valor \"hola\" con tu lista\n",
    "lista1+=[\"hola\"]\n",
    "lista1\n",
    "#transforma la lista en una string con la función .join\n",
    "lista_vacia=[]\n",
    "lista_vacia.append(palabra)\n",
    "#join no pasa numéros a string\n",
    "\" y \".join(lista1)\n",
    "\n",
    "\n",
    "#####for \n",
    "def mi_primer_bucle(lista):\n",
    "    #for (i in 1:length(lista))\n",
    "    for i in range(0,(len(lista)+1)):\n",
    "        lista[i]<-x+1\n",
    "    for solucion in lista:\n",
    "        precio+1\n",
    "        \n"
   ]
  },
  {
   "cell_type": "code",
   "execution_count": 69,
   "id": "5774f187-50d9-48c3-81c2-68e87b90332f",
   "metadata": {},
   "outputs": [
    {
     "data": {
      "text/plain": [
       "'hola hola hola hola mundo que talmundo que talmundo que talmundo que talmundo que tal'"
      ]
     },
     "execution_count": 69,
     "metadata": {},
     "output_type": "execute_result"
    }
   ],
   "source": [
    "palabra\n"
   ]
  },
  {
   "cell_type": "code",
   "execution_count": null,
   "id": "e173739c",
   "metadata": {},
   "outputs": [],
   "source": [
    "#############Diccionarios\n",
    "#Crea un diccionario\n",
    "#accede al valor de la 2ª clave\n",
    "#Añade una clave nueva con su correspondiente valor\n",
    "#Accede solo a los valores, o solo a las claves\n",
    "#Como se usaría este objeto en un bucle for?"
   ]
  }
 ],
 "metadata": {
  "kernelspec": {
   "display_name": "Python 3 (ipykernel)",
   "language": "python",
   "name": "python3"
  },
  "language_info": {
   "codemirror_mode": {
    "name": "ipython",
    "version": 3
   },
   "file_extension": ".py",
   "mimetype": "text/x-python",
   "name": "python",
   "nbconvert_exporter": "python",
   "pygments_lexer": "ipython3",
   "version": "3.9.12"
  }
 },
 "nbformat": 4,
 "nbformat_minor": 5
}
