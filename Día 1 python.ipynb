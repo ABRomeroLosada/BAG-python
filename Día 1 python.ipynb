{
 "cells": [
  {
   "cell_type": "markdown",
   "id": "c4beda7a",
   "metadata": {},
   "source": [
    "# Python básico\n",
    "\n",
    "Ana Belén Romero Losada\n",
    "Departamento de Ciencias de la Computación e Inteligencia Artificial\n",
    "Universidad de Sevila\n",
    "\n",
    "En esta hoja de trabajo vamos a ver lo esencial de Python para poder empezar a practicar con el lenguaje.\n",
    "\n",
    "En el entorno Jupyter se trabaja Python sobre un notebook u hoja de trabajo. Esta hoja de trabajo está formada por una secuencia de cajas, que pueden ser de texto, en las que explicar ideas y conceptos, o de código, en las que definir o evaluar funciones Python.\n"
   ]
  },
  {
   "cell_type": "markdown",
   "id": "6d657551",
   "metadata": {},
   "source": [
    "##  Ejercicio 1\n",
    "\n",
    "Crea una función que resuelva una ecuación de segundo grado en jupyter y en R. Compara las diferencias a la hora de realizar operaciones aritméticas y lógicas, declarar variables/objetos y usar las estructuras de control. \n",
    "\n",
    "PISTA: existe una función llamada round() para redondear. Se usa como típicamente se usa en R."
   ]
  },
  {
   "cell_type": "code",
   "execution_count": 2,
   "id": "daf7e6ca",
   "metadata": {},
   "outputs": [],
   "source": [
    "#Crea la funcion llamada calculadora\n",
    "##comprueba si el número que iría dentro de la raiz cuadrada es negativo\n",
    "###Devuelve 0 y un mensaje de error\n",
    "##en el caso que no lo sea, resuelve la ecuacion\n",
    "### imprime por pantalla los siguientes mensajes\n",
    "####\"ambas soluciones son válidas, x puede valer sol1 y sol2\"\n",
    "####\"Solo la solucion 1 es válida, x vale sol1\"\n",
    "####\"Solo la solucion 2 es válida, x vale sol2\"\n",
    "\n",
    "def calculadora(a,b,c):\n",
    "    previa= (b)**2-(4*(a)*(c))\n",
    "    if previa < 0:\n",
    "        print(\"Esta ecuación no tiene solución\")\n",
    "        return(0)\n",
    "    #si no:\n",
    "    else:\n",
    "        sol1 = (-(b)+((b)**2-(4*(a)*(c)))**(1/2))/(2*(a))\n",
    "        sol2 = (-(b)-((b)**2-(4*(a)*(c)))**(1/2))/(2*(a))\n",
    "        test1=(a*((sol1)**2)) + (b*sol1) + c\n",
    "        test2=(a*((sol2)**2)) + (b*sol2) + c\n",
    "        if (round(test1) == 0) and (round(test2) == 0):\n",
    "            print(\"Ambas soluciones son válidas, x puede valer\", sol1, \"y\", sol2)\n",
    "        elif (round(test1) == 0) and (round(test2) != 0):\n",
    "            print(\"Solo la solucion 1 es válida, x vale\", sol1)\n",
    "        elif (round(test1) != 0) and (round(test2) == 0):\n",
    "            print(\"Solo la solucion 2 es válida, x vale\", sol2)"
   ]
  },
  {
   "cell_type": "code",
   "execution_count": 6,
   "id": "e5fc779b",
   "metadata": {},
   "outputs": [
    {
     "name": "stdout",
     "output_type": "stream",
     "text": [
      "Esta ecuación no tiene solución\n"
     ]
    },
    {
     "data": {
      "text/plain": [
       "0"
      ]
     },
     "execution_count": 6,
     "metadata": {},
     "output_type": "execute_result"
    }
   ],
   "source": [
    "calculadora(2,4,7)"
   ]
  },
  {
   "cell_type": "markdown",
   "id": "30b09bda",
   "metadata": {},
   "source": [
    "## Ejercicio 2\n",
    "\n",
    "Traduce este pseudocódigo a código en R y python simultáneamente. \n",
    "\n"
   ]
  },
  {
   "cell_type": "code",
   "execution_count": null,
   "id": "34b8e3af",
   "metadata": {},
   "outputs": [],
   "source": [
    "#Declara una variable llamada x que valga 2\n",
    "#Súmale 2 a x"
   ]
  },
  {
   "cell_type": "code",
   "execution_count": null,
   "id": "200f52d1",
   "metadata": {},
   "outputs": [],
   "source": [
    "#añade las palabras \"mundo que tal\" a palabra\n",
    "#encuentra en que posicion está mundo\n"
   ]
  },
  {
   "cell_type": "code",
   "execution_count": 17,
   "id": "7cba96b3",
   "metadata": {},
   "outputs": [
    {
     "data": {
      "text/plain": [
       "'lat euq odnum aloh aloh'"
      ]
     },
     "execution_count": 17,
     "metadata": {},
     "output_type": "execute_result"
    }
   ],
   "source": [
    "#Declara una variable llamada palabra que valga \"hola\"\n",
    "#Duplica la variable palabra\n",
    "palabra=\"hola \"\n",
    "palabra*=2\n",
    "palabra\n",
    "\n",
    "#añade las palabras \"mundo que tal\" a palabra\n",
    "#encuentra en que posicion está mundo\n",
    "#destacar que con R no se puede trabajar casi con cadenas de caracteres\n",
    "palabra+=\"mundo que tal\"\n",
    "palabra.index(\"mundo\")\n",
    "palabra.find(\"mundo\")\n",
    "\n",
    "#selecciona elementos dentro de esa string \n",
    "palabra[3:12]\n",
    "palabra[::-1]"
   ]
  },
  {
   "cell_type": "markdown",
   "id": "009b0043",
   "metadata": {},
   "source": [
    "## Ejercicio 3\n",
    "\n",
    "Vamos a prácticar con las demás clases de objetos en python."
   ]
  },
  {
   "cell_type": "code",
   "execution_count": 4,
   "id": "a6e9173a",
   "metadata": {},
   "outputs": [
    {
     "data": {
      "text/plain": [
       "()"
      ]
     },
     "execution_count": 4,
     "metadata": {},
     "output_type": "execute_result"
    }
   ],
   "source": [
    "#Crea una tupla con tres elementos, el elemento más parecido a un vector\n",
    "tu=3,4,5,5\n",
    "tu\n",
    "#Crea una tupla con un elemento\n",
    "uno=1,\n",
    "uno\n",
    "#crea una tupla vacía\n",
    "vu=()\n",
    "vu"
   ]
  },
  {
   "cell_type": "code",
   "execution_count": 15,
   "id": "4edb8d32",
   "metadata": {},
   "outputs": [
    {
     "data": {
      "text/plain": [
       "(3, 4, 5, 5, 'hola', 'hola')"
      ]
     },
     "execution_count": 15,
     "metadata": {},
     "output_type": "execute_result"
    }
   ],
   "source": [
    "#recorre la tupla al revés\n",
    "#está el valor 6 en la tupla?\n",
    "5 in tu\n",
    "tu[2]=\"hola\"\n",
    "tu+=(\"hola\",)\n",
    "tu"
   ]
  },
  {
   "cell_type": "code",
   "execution_count": 7,
   "id": "1643a495",
   "metadata": {
    "scrolled": true
   },
   "outputs": [
    {
     "data": {
      "text/plain": [
       "'hola me llamo'"
      ]
     },
     "execution_count": 7,
     "metadata": {},
     "output_type": "execute_result"
    }
   ],
   "source": [
    "#Crea una lista que dentro tenga palabras\n",
    "l=[\"hola\", \"me\", \"llamo\"]\n",
    "#Modifica el valor de la posición 2 en la lista por la palabra \"hola\"\n",
    "#Concatena el valor 122 con tu lista\n",
    "#Concatena el valor \"hola\" con tu lista\n",
    "#transforma la lista en una string con la función .join\n",
    "\n",
    "#transforma la lista en una string con la función .join\n",
    "\" \".join(l)\n",
    "\n",
    "l=[2,3,4]\n",
    "l+=[122]\n",
    "l.append(\"gg\")\n",
    "\n"
   ]
  },
  {
   "cell_type": "markdown",
   "id": "52702d60",
   "metadata": {},
   "source": [
    "###METER BUCLES FOR CON LOS DICCIONARIOS\n",
    "for k in lista:\n",
    "print(lista)\n",
    "\n",
    "for k in dicc: itera la variable k sobre las claves del diccionario dicc.\n",
    "for (k,v) in dic.items(): itera el par (k,v) sobre los pares (𝑐𝑙𝑎𝑣𝑒,𝑣𝑎𝑙𝑜𝑟)\n",
    "dic.keys()\n",
    "dic.values()\n",
    " \n",
    "Veamos algunos ejemplos con estos iteradores:\n",
    "\n",
    "notas = {\"Juan Gómez\": \"notable\", \"Pedro Pérez\": \"aprobado\"}\n",
    "\n",
    "for k in notas: print(k, notas[k])\n",
    "\n",
    "Juan Gómez notable\n",
    "Pedro Pérez aprobado\n",
    "\n",
    "for k, v in notas.items(): print(k, v)\n",
    "\n",
    "Juan Gómez notable\n",
    "Pedro Pérez aprobado\n",
    "\n"
   ]
  }
 ],
 "metadata": {
  "kernelspec": {
   "display_name": "Python 3 (ipykernel)",
   "language": "python",
   "name": "python3"
  },
  "language_info": {
   "codemirror_mode": {
    "name": "ipython",
    "version": 3
   },
   "file_extension": ".py",
   "mimetype": "text/x-python",
   "name": "python",
   "nbconvert_exporter": "python",
   "pygments_lexer": "ipython3",
   "version": "3.9.12"
  }
 },
 "nbformat": 4,
 "nbformat_minor": 5
}
